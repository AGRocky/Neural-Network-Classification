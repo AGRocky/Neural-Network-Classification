{
 "cells": [
  {
   "cell_type": "markdown",
   "id": "389f4547-881c-4a99-8996-c2293966d46d",
   "metadata": {},
   "source": [
    "# Neural Network Classification"
   ]
  },
  {
   "cell_type": "markdown",
   "id": "d079935f-e130-42bd-a491-edc84e6ea0e9",
   "metadata": {},
   "source": [
    "### Example of classification data"
   ]
  },
  {
   "cell_type": "code",
   "execution_count": 1,
   "id": "4e189dc5-99c0-4c81-aee7-251a7aa731af",
   "metadata": {},
   "outputs": [],
   "source": [
    "# Create a data to view and fit\n",
    "from sklearn.datasets import make_circles\n",
    "\n",
    "# make 1000 samples\n",
    "n_samples = 1000\n",
    "\n",
    "# Create Circle\n",
    "X, y = make_circles(n_samples,\n",
    "                   noise=0.03,\n",
    "                   random_state=42)"
   ]
  },
  {
   "cell_type": "code",
   "execution_count": 2,
   "id": "8c1a8d5d-e03a-4012-954f-aef5fd113eb4",
   "metadata": {
    "tags": []
   },
   "outputs": [
    {
     "data": {
      "text/plain": [
       "array([[ 0.75424625,  0.23148074],\n",
       "       [-0.75615888,  0.15325888],\n",
       "       [-0.81539193,  0.17328203],\n",
       "       ...,\n",
       "       [-0.13690036, -0.81001183],\n",
       "       [ 0.67036156, -0.76750154],\n",
       "       [ 0.28105665,  0.96382443]])"
      ]
     },
     "execution_count": 2,
     "metadata": {},
     "output_type": "execute_result"
    }
   ],
   "source": [
    "# Check the X features \n",
    "X"
   ]
  },
  {
   "cell_type": "code",
   "execution_count": 3,
   "id": "eb3d968a-3e6e-46be-918d-2f1ee7a277ff",
   "metadata": {
    "tags": []
   },
   "outputs": [
    {
     "data": {
      "text/plain": [
       "array([1, 1, 1, 1, 0, 1, 1, 1, 1, 0, 1, 0, 1, 1, 1, 1, 0, 1, 1, 0, 1, 0,\n",
       "       0, 1, 0, 0, 0, 1, 1, 1, 0, 0, 1, 0, 0, 0, 1, 1, 1, 0, 0, 0, 0, 1,\n",
       "       0, 0, 1, 1, 0, 1, 1, 1, 0, 1, 0, 0, 1, 0, 0, 1, 0, 0, 1, 0, 1, 1,\n",
       "       1, 1, 0, 1, 0, 0, 1, 1, 0, 0, 1, 0, 1, 0, 1, 0, 0, 0, 0, 1, 1, 1,\n",
       "       1, 0, 0, 0, 1, 0, 1, 0, 1, 0, 0, 1, 1, 0, 1, 0, 1, 1, 1, 1, 0, 1,\n",
       "       1, 1, 1, 1, 0, 0, 0, 1, 1, 0, 1, 0, 1, 0, 0, 1, 1, 0, 1, 1, 1, 1,\n",
       "       0, 1, 1, 0, 0, 0, 0, 0, 0, 0, 1, 0, 1, 1, 1, 0, 1, 0, 1, 0, 1, 0,\n",
       "       1, 0, 0, 1, 0, 1, 1, 1, 1, 1, 1, 1, 0, 1, 0, 0, 0, 0, 0, 1, 0, 0,\n",
       "       0, 0, 1, 1, 0, 1, 0, 1, 1, 0, 0, 0, 1, 1, 1, 1, 1, 0, 0, 0, 0, 0,\n",
       "       1, 0, 0, 1, 1, 1, 1, 1, 0, 1, 0, 1, 0, 0, 1, 1, 1, 0, 1, 0, 1, 1,\n",
       "       0, 1, 1, 0, 1, 0, 1, 0, 1, 1, 0, 1, 0, 1, 0, 0, 0, 1, 0, 0, 0, 0,\n",
       "       1, 1, 0, 0, 0, 0, 0, 0, 0, 1, 1, 1, 0, 0, 1, 1, 1, 0, 1, 0, 0, 0,\n",
       "       0, 1, 1, 0, 1, 0, 0, 0, 1, 0, 1, 0, 0, 1, 0, 1, 1, 1, 0, 0, 0, 1,\n",
       "       0, 0, 0, 1, 1, 1, 1, 0, 0, 0, 1, 0, 0, 0, 1, 0, 0, 0, 1, 1, 0, 1,\n",
       "       1, 1, 1, 1, 1, 1, 0, 0, 0, 0, 1, 0, 0, 0, 0, 1, 1, 1, 0, 0, 1, 0,\n",
       "       1, 0, 1, 1, 0, 0, 1, 1, 1, 1, 0, 0, 0, 0, 0, 0, 1, 1, 0, 1, 0, 0,\n",
       "       1, 0, 0, 0, 0, 0, 0, 0, 0, 1, 0, 0, 0, 0, 1, 0, 0, 1, 0, 1, 0, 0,\n",
       "       0, 1, 0, 0, 1, 1, 0, 0, 1, 0, 0, 1, 1, 0, 1, 1, 0, 0, 1, 0, 1, 0,\n",
       "       0, 0, 1, 1, 0, 0, 1, 1, 1, 1, 1, 0, 0, 1, 1, 1, 1, 0, 1, 1, 1, 1,\n",
       "       1, 0, 0, 1, 0, 1, 0, 0, 0, 0, 1, 0, 0, 0, 0, 0, 0, 0, 0, 0, 1, 1,\n",
       "       0, 1, 1, 1, 1, 1, 1, 0, 1, 1, 1, 1, 0, 0, 0, 1, 1, 1, 0, 0, 0, 0,\n",
       "       1, 1, 0, 0, 0, 0, 1, 0, 0, 0, 1, 0, 0, 1, 1, 1, 1, 1, 1, 0, 0, 0,\n",
       "       1, 0, 0, 0, 0, 0, 1, 1, 1, 0, 0, 0, 0, 0, 1, 1, 1, 0, 0, 1, 1, 1,\n",
       "       1, 0, 1, 1, 0, 1, 0, 0, 0, 1, 0, 0, 1, 0, 0, 1, 1, 0, 0, 1, 1, 0,\n",
       "       1, 0, 1, 0, 1, 0, 1, 0, 0, 0, 1, 0, 0, 0, 0, 0, 0, 1, 1, 1, 1, 0,\n",
       "       0, 0, 1, 0, 1, 1, 0, 0, 0, 0, 0, 1, 1, 1, 0, 0, 1, 0, 0, 1, 0, 0,\n",
       "       1, 0, 0, 1, 0, 0, 0, 1, 0, 0, 1, 1, 1, 0, 1, 1, 0, 0, 0, 1, 1, 1,\n",
       "       1, 0, 0, 1, 1, 1, 0, 0, 0, 0, 1, 1, 0, 0, 1, 1, 0, 0, 1, 1, 1, 1,\n",
       "       1, 1, 1, 0, 1, 0, 1, 0, 0, 1, 0, 1, 1, 1, 1, 0, 0, 1, 1, 0, 0, 1,\n",
       "       0, 1, 0, 0, 0, 1, 0, 0, 1, 1, 1, 1, 0, 1, 1, 1, 1, 1, 1, 1, 0, 1,\n",
       "       0, 1, 1, 1, 0, 0, 1, 0, 0, 0, 1, 1, 1, 1, 0, 0, 0, 0, 1, 0, 1, 1,\n",
       "       1, 0, 1, 0, 0, 1, 0, 0, 1, 1, 1, 1, 1, 0, 1, 0, 0, 0, 1, 1, 1, 1,\n",
       "       1, 0, 0, 0, 1, 1, 1, 1, 0, 0, 0, 0, 0, 1, 1, 0, 1, 0, 1, 0, 0, 0,\n",
       "       0, 0, 0, 0, 0, 0, 1, 1, 1, 1, 1, 0, 1, 0, 1, 1, 1, 1, 0, 1, 1, 1,\n",
       "       1, 1, 1, 1, 1, 0, 1, 1, 0, 1, 0, 0, 0, 1, 0, 1, 1, 1, 0, 1, 1, 0,\n",
       "       1, 1, 0, 1, 0, 1, 1, 0, 0, 1, 1, 1, 0, 0, 0, 0, 1, 1, 0, 0, 1, 1,\n",
       "       1, 1, 1, 1, 1, 1, 1, 1, 1, 1, 1, 1, 0, 0, 1, 0, 1, 0, 1, 0, 1, 1,\n",
       "       1, 1, 1, 1, 0, 1, 0, 1, 1, 1, 0, 1, 1, 0, 0, 1, 0, 1, 1, 0, 0, 1,\n",
       "       1, 1, 1, 1, 1, 1, 1, 0, 1, 1, 1, 0, 1, 0, 0, 1, 1, 0, 0, 0, 1, 0,\n",
       "       0, 1, 0, 0, 0, 1, 0, 1, 0, 0, 0, 0, 1, 0, 1, 1, 1, 1, 0, 1, 0, 0,\n",
       "       0, 0, 0, 0, 1, 0, 1, 0, 1, 0, 1, 1, 1, 0, 1, 0, 1, 0, 0, 1, 1, 1,\n",
       "       0, 0, 0, 1, 1, 0, 1, 0, 1, 1, 0, 1, 0, 0, 1, 1, 1, 0, 0, 0, 1, 1,\n",
       "       0, 0, 0, 0, 0, 1, 1, 0, 1, 0, 0, 0, 1, 0, 0, 0, 1, 1, 1, 1, 0, 1,\n",
       "       1, 1, 0, 1, 1, 1, 1, 0, 1, 1, 0, 1, 1, 0, 0, 1, 1, 1, 0, 0, 0, 0,\n",
       "       0, 0, 1, 0, 0, 1, 0, 0, 0, 1, 0, 1, 0, 1, 1, 0, 0, 0, 0, 0, 0, 0,\n",
       "       0, 1, 0, 1, 0, 0, 0, 1, 0, 0], dtype=int64)"
      ]
     },
     "execution_count": 3,
     "metadata": {},
     "output_type": "execute_result"
    }
   ],
   "source": [
    "# Check the y features \n",
    "y"
   ]
  },
  {
   "cell_type": "markdown",
   "id": "a7c9c76d-5184-4ab3-9fe7-baf83f467ade",
   "metadata": {},
   "source": [
    "### Visualizing data to understand it"
   ]
  },
  {
   "cell_type": "code",
   "execution_count": 4,
   "id": "596f9d04-4f52-47d3-b976-f81814b3046d",
   "metadata": {},
   "outputs": [
    {
     "data": {
      "text/html": [
       "<div>\n",
       "<style scoped>\n",
       "    .dataframe tbody tr th:only-of-type {\n",
       "        vertical-align: middle;\n",
       "    }\n",
       "\n",
       "    .dataframe tbody tr th {\n",
       "        vertical-align: top;\n",
       "    }\n",
       "\n",
       "    .dataframe thead th {\n",
       "        text-align: right;\n",
       "    }\n",
       "</style>\n",
       "<table border=\"1\" class=\"dataframe\">\n",
       "  <thead>\n",
       "    <tr style=\"text-align: right;\">\n",
       "      <th></th>\n",
       "      <th>X0</th>\n",
       "      <th>X1</th>\n",
       "      <th>label</th>\n",
       "    </tr>\n",
       "  </thead>\n",
       "  <tbody>\n",
       "    <tr>\n",
       "      <th>0</th>\n",
       "      <td>0.754246</td>\n",
       "      <td>0.231481</td>\n",
       "      <td>1</td>\n",
       "    </tr>\n",
       "    <tr>\n",
       "      <th>1</th>\n",
       "      <td>-0.756159</td>\n",
       "      <td>0.153259</td>\n",
       "      <td>1</td>\n",
       "    </tr>\n",
       "    <tr>\n",
       "      <th>2</th>\n",
       "      <td>-0.815392</td>\n",
       "      <td>0.173282</td>\n",
       "      <td>1</td>\n",
       "    </tr>\n",
       "    <tr>\n",
       "      <th>3</th>\n",
       "      <td>-0.393731</td>\n",
       "      <td>0.692883</td>\n",
       "      <td>1</td>\n",
       "    </tr>\n",
       "    <tr>\n",
       "      <th>4</th>\n",
       "      <td>0.442208</td>\n",
       "      <td>-0.896723</td>\n",
       "      <td>0</td>\n",
       "    </tr>\n",
       "    <tr>\n",
       "      <th>...</th>\n",
       "      <td>...</td>\n",
       "      <td>...</td>\n",
       "      <td>...</td>\n",
       "    </tr>\n",
       "    <tr>\n",
       "      <th>995</th>\n",
       "      <td>0.244054</td>\n",
       "      <td>0.944125</td>\n",
       "      <td>0</td>\n",
       "    </tr>\n",
       "    <tr>\n",
       "      <th>996</th>\n",
       "      <td>-0.978655</td>\n",
       "      <td>-0.272373</td>\n",
       "      <td>0</td>\n",
       "    </tr>\n",
       "    <tr>\n",
       "      <th>997</th>\n",
       "      <td>-0.136900</td>\n",
       "      <td>-0.810012</td>\n",
       "      <td>1</td>\n",
       "    </tr>\n",
       "    <tr>\n",
       "      <th>998</th>\n",
       "      <td>0.670362</td>\n",
       "      <td>-0.767502</td>\n",
       "      <td>0</td>\n",
       "    </tr>\n",
       "    <tr>\n",
       "      <th>999</th>\n",
       "      <td>0.281057</td>\n",
       "      <td>0.963824</td>\n",
       "      <td>0</td>\n",
       "    </tr>\n",
       "  </tbody>\n",
       "</table>\n",
       "<p>1000 rows × 3 columns</p>\n",
       "</div>"
      ],
      "text/plain": [
       "           X0        X1  label\n",
       "0    0.754246  0.231481      1\n",
       "1   -0.756159  0.153259      1\n",
       "2   -0.815392  0.173282      1\n",
       "3   -0.393731  0.692883      1\n",
       "4    0.442208 -0.896723      0\n",
       "..        ...       ...    ...\n",
       "995  0.244054  0.944125      0\n",
       "996 -0.978655 -0.272373      0\n",
       "997 -0.136900 -0.810012      1\n",
       "998  0.670362 -0.767502      0\n",
       "999  0.281057  0.963824      0\n",
       "\n",
       "[1000 rows x 3 columns]"
      ]
     },
     "execution_count": 4,
     "metadata": {},
     "output_type": "execute_result"
    }
   ],
   "source": [
    "# Cinverting it into a dataframe for better understanding\n",
    "import pandas as pd\n",
    "\n",
    "circles = pd.DataFrame({'X0': X[:,0], 'X1': X[:,1], 'label': y})\n",
    "circles"
   ]
  },
  {
   "cell_type": "code",
   "execution_count": 5,
   "id": "2e908016-6794-425f-8097-bbb312f360cd",
   "metadata": {},
   "outputs": [
    {
     "data": {
      "text/plain": [
       "<matplotlib.collections.PathCollection at 0x1cdb43b2940>"
      ]
     },
     "execution_count": 5,
     "metadata": {},
     "output_type": "execute_result"
    },
    {
     "data": {
      "image/png": "[encoded data removed]",
      "text/plain": [
       "<Figure size 432x288 with 1 Axes>"
      ]
     },
     "metadata": {
      "needs_background": "light"
     },
     "output_type": "display_data"
    }
   ],
   "source": [
    "# Visualize with a plot\n",
    "\n",
    "import matplotlib.pyplot as plt\n",
    "plt.scatter(X[:,0], X[:,1], c=y, cmap=plt.cm.RdYlBu)"
   ]
  },
  {
   "cell_type": "code",
   "execution_count": 6,
   "id": "edcb015e-00de-4b6c-8398-443bec172d98",
   "metadata": {},
   "outputs": [],
   "source": [
    "# Steps in modelling in TensorFlow\n",
    "# 1. Create or import a model\n",
    "# 2. Compile the model\n",
    "# 3. Fit the model\n",
    "# 4. Evaluate the model\n",
    "# 5. Tweak\n",
    "# 6. Evaluate...."
   ]
  },
  {
   "cell_type": "code",
   "execution_count": 7,
   "id": "45495504-4d1d-4eef-b907-2e72c0acbaab",
   "metadata": {},
   "outputs": [],
   "source": [
    "import tensorflow as tf"
   ]
  },
  {
   "cell_type": "code",
   "execution_count": 8,
   "id": "cb768cf5-cc5d-4a09-aca2-74d848d64e16",
   "metadata": {},
   "outputs": [
    {
     "name": "stdout",
     "output_type": "stream",
     "text": [
      "Epoch 1/5\n",
      "32/32 [==============================] - 1s 2ms/step - loss: 2.8544 - accuracy: 0.4600\n",
      "Epoch 2/5\n",
      "32/32 [==============================] - 0s 2ms/step - loss: 0.7131 - accuracy: 0.5430\n",
      "Epoch 3/5\n",
      "32/32 [==============================] - 0s 2ms/step - loss: 0.6973 - accuracy: 0.5090\n",
      "Epoch 4/5\n",
      "32/32 [==============================] - 0s 3ms/step - loss: 0.6950 - accuracy: 0.5010\n",
      "Epoch 5/5\n",
      "32/32 [==============================] - 0s 2ms/step - loss: 0.6942 - accuracy: 0.4820\n"
     ]
    },
    {
     "data": {
      "text/plain": [
       "<keras.callbacks.History at 0x1cdbb544af0>"
      ]
     },
     "execution_count": 8,
     "metadata": {},
     "output_type": "execute_result"
    }
   ],
   "source": [
    "# set random seed\n",
    "tf.random.set_seed(42)\n",
    "\n",
    "# Create the model using sequenial API\n",
    "model_1 = tf.keras.Sequential([\n",
    "tf.keras.layers.Dense(1)\n",
    "])\n",
    "\n",
    "# Compile the model\n",
    "model_1.compile(loss=tf.keras.losses.BinaryCrossentropy(),\n",
    "               optimizer=tf.keras.optimizers.SGD(),\n",
    "               metrics=['accuracy'])\n",
    "\n",
    "# Fit the model\n",
    "model_1.fit(X, y, epochs=5)"
   ]
  },
  {
   "cell_type": "code",
   "execution_count": 9,
   "id": "e8f3f4c5-1bfd-427f-aaf7-c348e62c26c8",
   "metadata": {},
   "outputs": [
    {
     "name": "stdout",
     "output_type": "stream",
     "text": [
      "32/32 [==============================] - 0s 2ms/step - loss: 0.6935 - accuracy: 0.5000\n"
     ]
    },
    {
     "data": {
      "text/plain": [
       "[0.6934829950332642, 0.5]"
      ]
     },
     "execution_count": 9,
     "metadata": {},
     "output_type": "execute_result"
    }
   ],
   "source": [
    "# Improving the model by training the model for longer\n",
    "model_1.fit(X, y, epochs=200, verbose=0)\n",
    "model_1.evaluate(X, y)"
   ]
  },
  {
   "cell_type": "markdown",
   "id": "a9129218-9420-489f-92b0-803bc63c75d8",
   "metadata": {},
   "source": [
    "## Lets add some more layer to improve the model"
   ]
  },
  {
   "cell_type": "code",
   "execution_count": 10,
   "id": "d97c400a-5e2e-40fe-a5bb-7415f73fb4fb",
   "metadata": {},
   "outputs": [
    {
     "data": {
      "text/plain": [
       "<keras.callbacks.History at 0x1cdbc7f0bb0>"
      ]
     },
     "execution_count": 10,
     "metadata": {},
     "output_type": "execute_result"
    }
   ],
   "source": [
    "# set random seed\n",
    "tf.random.set_seed(42)\n",
    "\n",
    "# Create the model using sequenial API\n",
    "model_2 = tf.keras.Sequential([\n",
    "tf.keras.layers.Dense(1),\n",
    "tf.keras.layers.Dense(1)\n",
    "\n",
    "])\n",
    "\n",
    "# Compile the model\n",
    "model_2.compile(loss=tf.keras.losses.BinaryCrossentropy(),\n",
    "               optimizer=tf.keras.optimizers.SGD(),\n",
    "               metrics=['accuracy'])\n",
    "\n",
    "# Fit the model\n",
    "model_2.fit(X, y, epochs=100, verbose=0)"
   ]
  },
  {
   "cell_type": "code",
   "execution_count": 11,
   "id": "b98ba24e-deeb-4796-a4c0-27a78527d491",
   "metadata": {},
   "outputs": [
    {
     "name": "stdout",
     "output_type": "stream",
     "text": [
      "32/32 [==============================] - 0s 1ms/step - loss: 0.6933 - accuracy: 0.5000\n"
     ]
    },
    {
     "data": {
      "text/plain": [
       "[0.6933314204216003, 0.5]"
      ]
     },
     "execution_count": 11,
     "metadata": {},
     "output_type": "execute_result"
    }
   ],
   "source": [
    "# Evaluating the model\n",
    "model_2.evaluate(X, y)"
   ]
  },
  {
   "cell_type": "markdown",
   "id": "73d6d94f-2b5f-47c0-982c-b8755a2fa699",
   "metadata": {},
   "source": [
    "##  Improving model by adding 3 Hidden layers"
   ]
  },
  {
   "cell_type": "code",
   "execution_count": 12,
   "id": "84df8690-35ed-4b4e-893b-fadf67f63bcc",
   "metadata": {},
   "outputs": [
    {
     "data": {
      "text/plain": [
       "<keras.callbacks.History at 0x1cdbd8bdc70>"
      ]
     },
     "execution_count": 12,
     "metadata": {},
     "output_type": "execute_result"
    }
   ],
   "source": [
    "# set random seed\n",
    "tf.random.set_seed(42)\n",
    "\n",
    "# Create the model using sequenial API\n",
    "model_3 = tf.keras.Sequential([\n",
    "tf.keras.layers.Dense(100), #adding 100 dense neuron\n",
    "tf.keras.layers.Dense(10), #adding another 10 dense neuron\n",
    "tf.keras.layers.Dense(1),\n",
    "\n",
    "])\n",
    "\n",
    "# Compile the model\n",
    "model_3.compile(loss=tf.keras.losses.BinaryCrossentropy(),\n",
    "               optimizer=tf.keras.optimizers.Adam(),\n",
    "               metrics=['accuracy'])\n",
    "\n",
    "# Fit the model\n",
    "model_3.fit(X, y, epochs=100, verbose=0)"
   ]
  },
  {
   "cell_type": "code",
   "execution_count": 13,
   "id": "a0ede241-102d-44a8-a255-fe81472722bc",
   "metadata": {},
   "outputs": [
    {
     "name": "stdout",
     "output_type": "stream",
     "text": [
      "32/32 [==============================] - 0s 1ms/step - loss: 0.6980 - accuracy: 0.5080\n"
     ]
    },
    {
     "data": {
      "text/plain": [
       "[0.6980254650115967, 0.5080000162124634]"
      ]
     },
     "execution_count": 13,
     "metadata": {},
     "output_type": "execute_result"
    }
   ],
   "source": [
    "# Evaluating the model\n",
    "model_3.evaluate(X, y)"
   ]
  },
  {
   "cell_type": "code",
   "execution_count": 14,
   "id": "2ac687a6-9ea1-4a5c-ae04-830ab1690750",
   "metadata": {},
   "outputs": [],
   "source": [
    "# To visualize our model's prediction\n",
    "import numpy as np\n",
    "\n",
    "def plot_decision_boundry(model, X, y):\n",
    "    \n",
    "    # Defining a axis boundaries of the plot and create a meshgrid\n",
    "    x_min, x_max = X[:,0].min() - 0.1, X[:,0].max() + 0.1\n",
    "    y_min, y_max = X[:,1].min() - 0.1, X[:,1].max() + 0.1\n",
    "    xx, yy = np.meshgrid(np.linspace(x_min, x_max, 100),\n",
    "                        np.linspace(y_min, y_max, 100))\n",
    "    \n",
    "    # Create X values (we're going to make predictions on this)\n",
    "    x_in = np.c_[xx.ravel(), yy.ravel()] #stacking 2D arrays together\n",
    "    \n",
    "    # Make predictions\n",
    "    y_pred = model.predict(x_in)\n",
    "    \n",
    "    # Check for multi-class\n",
    "    if len(y_pred[0]) > 1:\n",
    "        print('Multi class classificatiopn')\n",
    "        # we have to reshape our predictions to get them ready for plotting\n",
    "        y_pred= np.argmax(y_pred, axis=1).reshape(xx.shape)\n",
    "    else:\n",
    "        print('doing binary classification')\n",
    "        y_pred = np.round(y_pred).reshape(xx.shape)\n",
    "        \n",
    "        \n",
    "    # plot the decision boundary\n",
    "    plt.contourf(xx, yy, y_pred, cmap= plt.cm.RdYlBu, alpha= 0.7)\n",
    "    plt.scatter(X[:,0], X[:, 1], c=y, s=40, cmap=plt.cm.RdYlBu)\n",
    "    plt.xlim(xx.min(), xx.max())\n",
    "    plt.ylim(yy.min(), yy.max())\n",
    "    \n"
   ]
  },
  {
   "cell_type": "code",
   "execution_count": 15,
   "id": "f3cf48f4-8468-462a-8fae-1d02d4c87ada",
   "metadata": {},
   "outputs": [
    {
     "data": {
      "text/plain": [
       "(-1.1595024599098636,\n",
       " 1.1337117525463374,\n",
       " -1.1677683182718437,\n",
       " 1.1360036756154805)"
      ]
     },
     "execution_count": 15,
     "metadata": {},
     "output_type": "execute_result"
    }
   ],
   "source": [
    "\n",
    "x_min, x_max = X[:,0].min() - 0.1, X[:,0].max() + 0.1\n",
    "y_min, y_max = X[:,1].min() - 0.1, X[:,1].max() + 0.1\n",
    "\n",
    "x_min, x_max, y_min, y_max"
   ]
  },
  {
   "cell_type": "code",
   "execution_count": 16,
   "id": "463d7112-86b8-41e1-8b70-1011b73d308f",
   "metadata": {},
   "outputs": [
    {
     "name": "stdout",
     "output_type": "stream",
     "text": [
      "doing binary classification\n"
     ]
    },
    {
     "data": {
      "image/png": "[encoded data removed]",
      "text/plain": [
       "<Figure size 432x288 with 1 Axes>"
      ]
     },
     "metadata": {
      "needs_background": "light"
     },
     "output_type": "display_data"
    }
   ],
   "source": [
    "# Check out Predicitons \n",
    "plot_decision_boundry(model=model_3,\n",
    "                     X=X,\n",
    "                     y=y)"
   ]
  },
  {
   "cell_type": "markdown",
   "id": "e275c641-b605-4e62-a1e4-e122541c0183",
   "metadata": {},
   "source": [
    "# Obsevation: \n",
    "     The plot is predicting a decision boundary as a straight line  where as our data is circular/ non linear"
   ]
  },
  {
   "cell_type": "markdown",
   "id": "405eeacd-ba42-4e5f-bfc4-bbf2fbbc1329",
   "metadata": {},
   "source": []
  },
  {
   "cell_type": "markdown",
   "id": "6a43115c-633a-4020-97db-06b958c4ef5c",
   "metadata": {},
   "source": [
    "# Lets see if our model works fir regression problem"
   ]
  },
  {
   "cell_type": "code",
   "execution_count": 17,
   "id": "d72653f1-63f1-411a-89da-425b1e3d8ac5",
   "metadata": {},
   "outputs": [],
   "source": [
    "tf.random.set_seed(42)\n",
    "\n",
    "X_reg = tf.range(0, 1000, 5)\n",
    "\n",
    "y_reg = tf.range(100, 1100, 5) # y= X + 100\n",
    "\n",
    "# Splitting data\n",
    "X_train = X_reg[:150]\n",
    "X_test = X_reg[150:]\n",
    "\n",
    "y_train = y_reg[:150]\n",
    "y_test = y_reg[150:]\n",
    "\n",
    "# fit our model\n",
    "#model_3.fit(X_train, y_train ,epochs=100, verbose=0)"
   ]
  },
  {
   "cell_type": "markdown",
   "id": "e097477d-a149-4bf4-8a11-f8429a64f527",
   "metadata": {},
   "source": [
    "# Error occurs bcz we've compiled our model for binary classification but we're working on regression problem"
   ]
  },
  {
   "cell_type": "code",
   "execution_count": 18,
   "id": "a602bd0a-db26-4f09-ae78-1a32ab2adb03",
   "metadata": {
    "collapsed": true,
    "jupyter": {
     "outputs_hidden": true
    },
    "tags": []
   },
   "outputs": [
    {
     "name": "stdout",
     "output_type": "stream",
     "text": [
      "Epoch 1/100\n",
      "5/5 [==============================] - 1s 4ms/step - loss: 248.2155 - mae: 248.2155\n",
      "Epoch 2/100\n",
      "5/5 [==============================] - 0s 4ms/step - loss: 138.9005 - mae: 138.9005\n",
      "Epoch 3/100\n",
      "5/5 [==============================] - 0s 6ms/step - loss: 53.1039 - mae: 53.1039\n",
      "Epoch 4/100\n",
      "5/5 [==============================] - 0s 4ms/step - loss: 73.5170 - mae: 73.5170\n",
      "Epoch 5/100\n",
      "5/5 [==============================] - 0s 4ms/step - loss: 71.2358 - mae: 71.2358\n",
      "Epoch 6/100\n",
      "5/5 [==============================] - 0s 4ms/step - loss: 47.0040 - mae: 47.0040\n",
      "Epoch 7/100\n",
      "5/5 [==============================] - 0s 4ms/step - loss: 45.9386 - mae: 45.9386\n",
      "Epoch 8/100\n",
      "5/5 [==============================] - 0s 2ms/step - loss: 42.3638 - mae: 42.3638\n",
      "Epoch 9/100\n",
      "5/5 [==============================] - 0s 4ms/step - loss: 43.6831 - mae: 43.6831\n",
      "Epoch 10/100\n",
      "5/5 [==============================] - 0s 2ms/step - loss: 42.6198 - mae: 42.6198\n",
      "Epoch 11/100\n",
      "5/5 [==============================] - 0s 4ms/step - loss: 42.4797 - mae: 42.4797\n",
      "Epoch 12/100\n",
      "5/5 [==============================] - 0s 4ms/step - loss: 41.5537 - mae: 41.5537\n",
      "Epoch 13/100\n",
      "5/5 [==============================] - 0s 4ms/step - loss: 42.0972 - mae: 42.0972\n",
      "Epoch 14/100\n",
      "5/5 [==============================] - 0s 2ms/step - loss: 41.8647 - mae: 41.8647\n",
      "Epoch 15/100\n",
      "5/5 [==============================] - 0s 4ms/step - loss: 41.5342 - mae: 41.5342\n",
      "Epoch 16/100\n",
      "5/5 [==============================] - 0s 2ms/step - loss: 41.4028 - mae: 41.4028\n",
      "Epoch 17/100\n",
      "5/5 [==============================] - 0s 2ms/step - loss: 41.6887 - mae: 41.6887\n",
      "Epoch 18/100\n",
      "5/5 [==============================] - 0s 4ms/step - loss: 41.6137 - mae: 41.6137\n",
      "Epoch 19/100\n",
      "5/5 [==============================] - 0s 4ms/step - loss: 41.2796 - mae: 41.2796\n",
      "Epoch 20/100\n",
      "5/5 [==============================] - 0s 2ms/step - loss: 41.1947 - mae: 41.1947\n",
      "Epoch 21/100\n",
      "5/5 [==============================] - 0s 4ms/step - loss: 41.2130 - mae: 41.2130\n",
      "Epoch 22/100\n",
      "5/5 [==============================] - 0s 2ms/step - loss: 41.0893 - mae: 41.0893\n",
      "Epoch 23/100\n",
      "5/5 [==============================] - 0s 2ms/step - loss: 41.2019 - mae: 41.2019\n",
      "Epoch 24/100\n",
      "5/5 [==============================] - 0s 4ms/step - loss: 40.9989 - mae: 40.9989\n",
      "Epoch 25/100\n",
      "5/5 [==============================] - 0s 4ms/step - loss: 41.0131 - mae: 41.0131\n",
      "Epoch 26/100\n",
      "5/5 [==============================] - 0s 4ms/step - loss: 41.0654 - mae: 41.0654\n",
      "Epoch 27/100\n",
      "5/5 [==============================] - 0s 2ms/step - loss: 40.8764 - mae: 40.8764\n",
      "Epoch 28/100\n",
      "5/5 [==============================] - 0s 4ms/step - loss: 41.0545 - mae: 41.0545\n",
      "Epoch 29/100\n",
      "5/5 [==============================] - 0s 4ms/step - loss: 41.0480 - mae: 41.0480\n",
      "Epoch 30/100\n",
      "5/5 [==============================] - 0s 4ms/step - loss: 40.8807 - mae: 40.8807\n",
      "Epoch 31/100\n",
      "5/5 [==============================] - 0s 3ms/step - loss: 41.2695 - mae: 41.2695\n",
      "Epoch 32/100\n",
      "5/5 [==============================] - 0s 2ms/step - loss: 40.9949 - mae: 40.9949\n",
      "Epoch 33/100\n",
      "5/5 [==============================] - 0s 2ms/step - loss: 41.0760 - mae: 41.0760\n",
      "Epoch 34/100\n",
      "5/5 [==============================] - 0s 2ms/step - loss: 41.2471 - mae: 41.2471\n",
      "Epoch 35/100\n",
      "5/5 [==============================] - 0s 2ms/step - loss: 40.6102 - mae: 40.6102\n",
      "Epoch 36/100\n",
      "5/5 [==============================] - 0s 0s/step - loss: 41.1093 - mae: 41.1093\n",
      "Epoch 37/100\n",
      "5/5 [==============================] - 0s 4ms/step - loss: 40.8191 - mae: 40.8191\n",
      "Epoch 38/100\n",
      "5/5 [==============================] - 0s 5ms/step - loss: 40.2485 - mae: 40.2485\n",
      "Epoch 39/100\n",
      "5/5 [==============================] - 0s 4ms/step - loss: 41.0625 - mae: 41.0625\n",
      "Epoch 40/100\n",
      "5/5 [==============================] - 0s 0s/step - loss: 40.5311 - mae: 40.5311\n",
      "Epoch 41/100\n",
      "5/5 [==============================] - 0s 0s/step - loss: 40.5497 - mae: 40.5497\n",
      "Epoch 42/100\n",
      "5/5 [==============================] - 0s 1ms/step - loss: 40.4322 - mae: 40.4322\n",
      "Epoch 43/100\n",
      "5/5 [==============================] - 0s 0s/step - loss: 40.5367 - mae: 40.5367\n",
      "Epoch 44/100\n",
      "5/5 [==============================] - 0s 0s/step - loss: 40.2487 - mae: 40.2487\n",
      "Epoch 45/100\n",
      "5/5 [==============================] - 0s 0s/step - loss: 40.5152 - mae: 40.5152\n",
      "Epoch 46/100\n",
      "5/5 [==============================] - 0s 0s/step - loss: 40.3702 - mae: 40.3702\n",
      "Epoch 47/100\n",
      "5/5 [==============================] - 0s 4ms/step - loss: 40.4769 - mae: 40.4769\n",
      "Epoch 48/100\n",
      "5/5 [==============================] - 0s 2ms/step - loss: 40.1532 - mae: 40.1532\n",
      "Epoch 49/100\n",
      "5/5 [==============================] - 0s 4ms/step - loss: 40.7291 - mae: 40.7291\n",
      "Epoch 50/100\n",
      "5/5 [==============================] - 0s 4ms/step - loss: 40.1536 - mae: 40.1536\n",
      "Epoch 51/100\n",
      "5/5 [==============================] - 0s 4ms/step - loss: 40.2711 - mae: 40.2711\n",
      "Epoch 52/100\n",
      "5/5 [==============================] - 0s 4ms/step - loss: 40.6572 - mae: 40.6572\n",
      "Epoch 53/100\n",
      "5/5 [==============================] - 0s 0s/step - loss: 40.6573 - mae: 40.6573\n",
      "Epoch 54/100\n",
      "5/5 [==============================] - 0s 2ms/step - loss: 40.6894 - mae: 40.6894\n",
      "Epoch 55/100\n",
      "5/5 [==============================] - 0s 2ms/step - loss: 41.2771 - mae: 41.2771\n",
      "Epoch 56/100\n",
      "5/5 [==============================] - 0s 2ms/step - loss: 41.8519 - mae: 41.8519\n",
      "Epoch 57/100\n",
      "5/5 [==============================] - 0s 2ms/step - loss: 40.7903 - mae: 40.7903\n",
      "Epoch 58/100\n",
      "5/5 [==============================] - 0s 4ms/step - loss: 40.3128 - mae: 40.3128\n",
      "Epoch 59/100\n",
      "5/5 [==============================] - 0s 4ms/step - loss: 40.7198 - mae: 40.7198\n",
      "Epoch 60/100\n",
      "5/5 [==============================] - 0s 4ms/step - loss: 40.1478 - mae: 40.1478\n",
      "Epoch 61/100\n",
      "5/5 [==============================] - 0s 14ms/step - loss: 40.1117 - mae: 40.1117\n",
      "Epoch 62/100\n",
      "5/5 [==============================] - 0s 4ms/step - loss: 40.7800 - mae: 40.7800\n",
      "Epoch 63/100\n",
      "5/5 [==============================] - 0s 4ms/step - loss: 39.7242 - mae: 39.7242\n",
      "Epoch 64/100\n",
      "5/5 [==============================] - 0s 2ms/step - loss: 40.1465 - mae: 40.1465\n",
      "Epoch 65/100\n",
      "5/5 [==============================] - 0s 6ms/step - loss: 39.6887 - mae: 39.6887\n",
      "Epoch 66/100\n",
      "5/5 [==============================] - 0s 8ms/step - loss: 40.2840 - mae: 40.2840\n",
      "Epoch 67/100\n",
      "5/5 [==============================] - 0s 4ms/step - loss: 39.5541 - mae: 39.5541\n",
      "Epoch 68/100\n",
      "5/5 [==============================] - 0s 2ms/step - loss: 39.7378 - mae: 39.7378\n",
      "Epoch 69/100\n",
      "5/5 [==============================] - 0s 2ms/step - loss: 39.9784 - mae: 39.9784\n",
      "Epoch 70/100\n",
      "5/5 [==============================] - 0s 2ms/step - loss: 40.0016 - mae: 40.0016\n",
      "Epoch 71/100\n",
      "5/5 [==============================] - 0s 4ms/step - loss: 40.0913 - mae: 40.0913\n",
      "Epoch 72/100\n",
      "5/5 [==============================] - 0s 4ms/step - loss: 39.2547 - mae: 39.2547\n",
      "Epoch 73/100\n",
      "5/5 [==============================] - 0s 4ms/step - loss: 39.6828 - mae: 39.6828\n",
      "Epoch 74/100\n",
      "5/5 [==============================] - 0s 0s/step - loss: 39.5373 - mae: 39.5373\n",
      "Epoch 75/100\n",
      "5/5 [==============================] - 0s 0s/step - loss: 39.6265 - mae: 39.6265\n",
      "Epoch 76/100\n",
      "5/5 [==============================] - 0s 0s/step - loss: 39.3110 - mae: 39.3110\n",
      "Epoch 77/100\n",
      "5/5 [==============================] - 0s 0s/step - loss: 39.1599 - mae: 39.1599\n",
      "Epoch 78/100\n",
      "5/5 [==============================] - 0s 0s/step - loss: 39.7550 - mae: 39.7550\n",
      "Epoch 79/100\n",
      "5/5 [==============================] - 0s 4ms/step - loss: 39.2542 - mae: 39.2542\n",
      "Epoch 80/100\n",
      "5/5 [==============================] - 0s 4ms/step - loss: 38.6968 - mae: 38.6968\n",
      "Epoch 81/100\n",
      "5/5 [==============================] - 0s 4ms/step - loss: 39.5442 - mae: 39.5442\n",
      "Epoch 82/100\n",
      "5/5 [==============================] - 0s 4ms/step - loss: 39.8686 - mae: 39.8686\n",
      "Epoch 83/100\n",
      "5/5 [==============================] - 0s 2ms/step - loss: 39.1693 - mae: 39.1693\n",
      "Epoch 84/100\n",
      "5/5 [==============================] - 0s 4ms/step - loss: 38.8840 - mae: 38.8840\n",
      "Epoch 85/100\n",
      "5/5 [==============================] - 0s 4ms/step - loss: 38.8887 - mae: 38.8887\n",
      "Epoch 86/100\n",
      "5/5 [==============================] - 0s 0s/step - loss: 38.6614 - mae: 38.6614\n",
      "Epoch 87/100\n",
      "5/5 [==============================] - 0s 0s/step - loss: 38.8399 - mae: 38.8399\n",
      "Epoch 88/100\n",
      "5/5 [==============================] - 0s 4ms/step - loss: 38.6604 - mae: 38.6604\n",
      "Epoch 89/100\n",
      "5/5 [==============================] - 0s 4ms/step - loss: 38.7559 - mae: 38.7559\n",
      "Epoch 90/100\n",
      "5/5 [==============================] - 0s 6ms/step - loss: 38.5442 - mae: 38.5442\n",
      "Epoch 91/100\n",
      "5/5 [==============================] - 0s 4ms/step - loss: 38.3247 - mae: 38.3247\n",
      "Epoch 92/100\n",
      "5/5 [==============================] - 0s 6ms/step - loss: 38.8431 - mae: 38.8431\n",
      "Epoch 93/100\n",
      "5/5 [==============================] - 0s 8ms/step - loss: 39.1137 - mae: 39.1137\n",
      "Epoch 94/100\n",
      "5/5 [==============================] - 0s 6ms/step - loss: 38.1463 - mae: 38.1463\n",
      "Epoch 95/100\n",
      "5/5 [==============================] - 0s 6ms/step - loss: 38.3998 - mae: 38.3998\n",
      "Epoch 96/100\n",
      "5/5 [==============================] - 0s 4ms/step - loss: 38.5599 - mae: 38.5599\n",
      "Epoch 97/100\n",
      "5/5 [==============================] - 0s 4ms/step - loss: 38.1038 - mae: 38.1038\n",
      "Epoch 98/100\n",
      "5/5 [==============================] - 0s 2ms/step - loss: 39.0081 - mae: 39.0081\n",
      "Epoch 99/100\n",
      "5/5 [==============================] - 0s 4ms/step - loss: 38.3056 - mae: 38.3056\n",
      "Epoch 100/100\n",
      "5/5 [==============================] - 0s 2ms/step - loss: 37.9976 - mae: 37.9976\n"
     ]
    },
    {
     "data": {
      "text/plain": [
       "<keras.callbacks.History at 0x1cdbeaa6e80>"
      ]
     },
     "execution_count": 18,
     "metadata": {},
     "output_type": "execute_result"
    }
   ],
   "source": [
    "# set random seed\n",
    "tf.random.set_seed(42)\n",
    "\n",
    "# Create the model using sequenial API\n",
    "model_3 = tf.keras.Sequential([\n",
    "tf.keras.layers.Dense(100,input_shape=[1]), #adding 100 dense neuron\n",
    "tf.keras.layers.Dense(10,input_shape=[1]), #adding another 10 dense neuron\n",
    "tf.keras.layers.Dense(1),\n",
    "\n",
    "])\n",
    "\n",
    "# Compile the model\n",
    "model_3.compile(loss=tf.keras.losses.mae,\n",
    "               optimizer=tf.keras.optimizers.Adam(),\n",
    "               metrics=['mae'])\n",
    "\n",
    "# Fit the model\n",
    "model_3.fit(X_train, y_train, epochs=100)"
   ]
  },
  {
   "cell_type": "code",
   "execution_count": 19,
   "id": "bb737e6f-c86b-4aed-a71e-89c6b213386e",
   "metadata": {},
   "outputs": [],
   "source": [
    "# make predictions with our trained model\n",
    "y_reg_pred = model_3.predict(X_test)"
   ]
  },
  {
   "cell_type": "code",
   "execution_count": 20,
   "id": "5908e7eb-7bd7-4889-8f4a-d2238f01d331",
   "metadata": {
    "tags": []
   },
   "outputs": [
    {
     "data": {
      "image/png": "[encoded data removed]",
      "text/plain": [
       "<Figure size 720x504 with 1 Axes>"
      ]
     },
     "metadata": {
      "needs_background": "light"
     },
     "output_type": "display_data"
    }
   ],
   "source": [
    "# plot the model predictions against our regression data\n",
    "plt.figure(figsize=(10,7))\n",
    "plt.scatter(X_train, y_train, c='b', label='Training data')\n",
    "plt.scatter(X_test, y_test, c='g', label='Testing data')\n",
    "plt.scatter(X_test, y_reg_pred, c='r', label='Predicitions')\n",
    "plt.legend();"
   ]
  },
  {
   "cell_type": "markdown",
   "id": "7254f7c2-b310-43c0-bc3e-212c5f494f3a",
   "metadata": {},
   "source": [
    "## Non-linearity"
   ]
  },
  {
   "cell_type": "code",
   "execution_count": 21,
   "id": "d2bc9392-1d00-4ca4-812f-2df439ec5aaa",
   "metadata": {
    "collapsed": true,
    "jupyter": {
     "outputs_hidden": true
    },
    "tags": []
   },
   "outputs": [
    {
     "name": "stdout",
     "output_type": "stream",
     "text": [
      "Epoch 1/100\n"
     ]
    },
    {
     "name": "stderr",
     "output_type": "stream",
     "text": [
      "C:\\Users\\rocky\\AppData\\Local\\Programs\\Python\\Python39\\lib\\site-packages\\keras\\optimizer_v2\\adam.py:105: UserWarning: The `lr` argument is deprecated, use `learning_rate` instead.\n",
      "  super(Adam, self).__init__(name, **kwargs)\n"
     ]
    },
    {
     "name": "stdout",
     "output_type": "stream",
     "text": [
      "32/32 [==============================] - 1s 2ms/step - loss: 4.2979 - accuracy: 0.4670\n",
      "Epoch 2/100\n",
      "32/32 [==============================] - 0s 2ms/step - loss: 4.2317 - accuracy: 0.4400\n",
      "Epoch 3/100\n",
      "32/32 [==============================] - 0s 2ms/step - loss: 4.1610 - accuracy: 0.4310\n",
      "Epoch 4/100\n",
      "32/32 [==============================] - 0s 2ms/step - loss: 4.1183 - accuracy: 0.4270\n",
      "Epoch 5/100\n",
      "32/32 [==============================] - 0s 3ms/step - loss: 4.0784 - accuracy: 0.4240\n",
      "Epoch 6/100\n",
      "32/32 [==============================] - 0s 2ms/step - loss: 3.9642 - accuracy: 0.4180\n",
      "Epoch 7/100\n",
      "32/32 [==============================] - 0s 2ms/step - loss: 3.8626 - accuracy: 0.4100\n",
      "Epoch 8/100\n",
      "32/32 [==============================] - 0s 2ms/step - loss: 3.8123 - accuracy: 0.4160\n",
      "Epoch 9/100\n",
      "32/32 [==============================] - 0s 3ms/step - loss: 3.7802 - accuracy: 0.4170\n",
      "Epoch 10/100\n",
      "32/32 [==============================] - 0s 3ms/step - loss: 3.7419 - accuracy: 0.4220\n",
      "Epoch 11/100\n",
      "32/32 [==============================] - 0s 3ms/step - loss: 3.6170 - accuracy: 0.4290\n",
      "Epoch 12/100\n",
      "32/32 [==============================] - 0s 3ms/step - loss: 3.5541 - accuracy: 0.4370\n",
      "Epoch 13/100\n",
      "32/32 [==============================] - 0s 2ms/step - loss: 3.4093 - accuracy: 0.4510\n",
      "Epoch 14/100\n",
      "32/32 [==============================] - 0s 2ms/step - loss: 3.3404 - accuracy: 0.4540\n",
      "Epoch 15/100\n",
      "32/32 [==============================] - 0s 3ms/step - loss: 3.2935 - accuracy: 0.4560\n",
      "Epoch 16/100\n",
      "32/32 [==============================] - 0s 3ms/step - loss: 3.2422 - accuracy: 0.4570\n",
      "Epoch 17/100\n",
      "32/32 [==============================] - 0s 2ms/step - loss: 3.1401 - accuracy: 0.4570\n",
      "Epoch 18/100\n",
      "32/32 [==============================] - 0s 2ms/step - loss: 2.9440 - accuracy: 0.4570\n",
      "Epoch 19/100\n",
      "32/32 [==============================] - 0s 2ms/step - loss: 2.6136 - accuracy: 0.4550\n",
      "Epoch 20/100\n",
      "32/32 [==============================] - 0s 3ms/step - loss: 2.1777 - accuracy: 0.4570\n",
      "Epoch 21/100\n",
      "32/32 [==============================] - 0s 3ms/step - loss: 1.6341 - accuracy: 0.4610\n",
      "Epoch 22/100\n",
      "32/32 [==============================] - 0s 2ms/step - loss: 1.0707 - accuracy: 0.4670\n",
      "Epoch 23/100\n",
      "32/32 [==============================] - 0s 3ms/step - loss: 0.9544 - accuracy: 0.4680\n",
      "Epoch 24/100\n",
      "32/32 [==============================] - 0s 3ms/step - loss: 0.9346 - accuracy: 0.4690\n",
      "Epoch 25/100\n",
      "32/32 [==============================] - 0s 3ms/step - loss: 0.9199 - accuracy: 0.4670\n",
      "Epoch 26/100\n",
      "32/32 [==============================] - 0s 2ms/step - loss: 0.9073 - accuracy: 0.4670\n",
      "Epoch 27/100\n",
      "32/32 [==============================] - 0s 2ms/step - loss: 0.8967 - accuracy: 0.4670\n",
      "Epoch 28/100\n",
      "32/32 [==============================] - 0s 3ms/step - loss: 0.8873 - accuracy: 0.4680\n",
      "Epoch 29/100\n",
      "32/32 [==============================] - 0s 2ms/step - loss: 0.8786 - accuracy: 0.4700\n",
      "Epoch 30/100\n",
      "32/32 [==============================] - 0s 2ms/step - loss: 0.8708 - accuracy: 0.4700\n",
      "Epoch 31/100\n",
      "32/32 [==============================] - 0s 2ms/step - loss: 0.8637 - accuracy: 0.4670\n",
      "Epoch 32/100\n",
      "32/32 [==============================] - 0s 2ms/step - loss: 0.8567 - accuracy: 0.4680\n",
      "Epoch 33/100\n",
      "32/32 [==============================] - 0s 3ms/step - loss: 0.8506 - accuracy: 0.4680\n",
      "Epoch 34/100\n",
      "32/32 [==============================] - 0s 2ms/step - loss: 0.8448 - accuracy: 0.4690\n",
      "Epoch 35/100\n",
      "32/32 [==============================] - 0s 3ms/step - loss: 0.8392 - accuracy: 0.4690\n",
      "Epoch 36/100\n",
      "32/32 [==============================] - 0s 2ms/step - loss: 0.8339 - accuracy: 0.4690\n",
      "Epoch 37/100\n",
      "32/32 [==============================] - 0s 2ms/step - loss: 0.8290 - accuracy: 0.4700\n",
      "Epoch 38/100\n",
      "32/32 [==============================] - 0s 2ms/step - loss: 0.8244 - accuracy: 0.4670\n",
      "Epoch 39/100\n",
      "32/32 [==============================] - 0s 3ms/step - loss: 0.8199 - accuracy: 0.4660\n",
      "Epoch 40/100\n",
      "32/32 [==============================] - 0s 2ms/step - loss: 0.8156 - accuracy: 0.4670\n",
      "Epoch 41/100\n",
      "32/32 [==============================] - 0s 3ms/step - loss: 0.8115 - accuracy: 0.4660\n",
      "Epoch 42/100\n",
      "32/32 [==============================] - 0s 2ms/step - loss: 0.8075 - accuracy: 0.4670\n",
      "Epoch 43/100\n",
      "32/32 [==============================] - 0s 3ms/step - loss: 0.8035 - accuracy: 0.4680\n",
      "Epoch 44/100\n",
      "32/32 [==============================] - 0s 2ms/step - loss: 0.7999 - accuracy: 0.4670\n",
      "Epoch 45/100\n",
      "32/32 [==============================] - 0s 2ms/step - loss: 0.7964 - accuracy: 0.4690\n",
      "Epoch 46/100\n",
      "32/32 [==============================] - 0s 2ms/step - loss: 0.7930 - accuracy: 0.4680\n",
      "Epoch 47/100\n",
      "32/32 [==============================] - 0s 3ms/step - loss: 0.7898 - accuracy: 0.4680\n",
      "Epoch 48/100\n",
      "32/32 [==============================] - 0s 2ms/step - loss: 0.7866 - accuracy: 0.4680\n",
      "Epoch 49/100\n",
      "32/32 [==============================] - 0s 3ms/step - loss: 0.7836 - accuracy: 0.4710\n",
      "Epoch 50/100\n",
      "32/32 [==============================] - 0s 2ms/step - loss: 0.7806 - accuracy: 0.4720\n",
      "Epoch 51/100\n",
      "32/32 [==============================] - 0s 3ms/step - loss: 0.7777 - accuracy: 0.4720\n",
      "Epoch 52/100\n",
      "32/32 [==============================] - 0s 3ms/step - loss: 0.7751 - accuracy: 0.4710\n",
      "Epoch 53/100\n",
      "32/32 [==============================] - 0s 3ms/step - loss: 0.7724 - accuracy: 0.4710\n",
      "Epoch 54/100\n",
      "32/32 [==============================] - 0s 3ms/step - loss: 0.7698 - accuracy: 0.4720\n",
      "Epoch 55/100\n",
      "32/32 [==============================] - 0s 3ms/step - loss: 0.7673 - accuracy: 0.4740\n",
      "Epoch 56/100\n",
      "32/32 [==============================] - 0s 2ms/step - loss: 0.7649 - accuracy: 0.4740\n",
      "Epoch 57/100\n",
      "32/32 [==============================] - 0s 2ms/step - loss: 0.7625 - accuracy: 0.4750\n",
      "Epoch 58/100\n",
      "32/32 [==============================] - 0s 2ms/step - loss: 0.7602 - accuracy: 0.4740\n",
      "Epoch 59/100\n",
      "32/32 [==============================] - 0s 3ms/step - loss: 0.7580 - accuracy: 0.4760\n",
      "Epoch 60/100\n",
      "32/32 [==============================] - 0s 2ms/step - loss: 0.7559 - accuracy: 0.4750\n",
      "Epoch 61/100\n",
      "32/32 [==============================] - 0s 3ms/step - loss: 0.7539 - accuracy: 0.4770\n",
      "Epoch 62/100\n",
      "32/32 [==============================] - 0s 2ms/step - loss: 0.7519 - accuracy: 0.4760\n",
      "Epoch 63/100\n",
      "32/32 [==============================] - 0s 3ms/step - loss: 0.7499 - accuracy: 0.4770\n",
      "Epoch 64/100\n",
      "32/32 [==============================] - 0s 3ms/step - loss: 0.7481 - accuracy: 0.4780\n",
      "Epoch 65/100\n",
      "32/32 [==============================] - 0s 3ms/step - loss: 0.7463 - accuracy: 0.4770\n",
      "Epoch 66/100\n",
      "32/32 [==============================] - 0s 3ms/step - loss: 0.7444 - accuracy: 0.4780\n",
      "Epoch 67/100\n",
      "32/32 [==============================] - 0s 3ms/step - loss: 0.7427 - accuracy: 0.4780\n",
      "Epoch 68/100\n",
      "32/32 [==============================] - 0s 3ms/step - loss: 0.7410 - accuracy: 0.4760\n",
      "Epoch 69/100\n",
      "32/32 [==============================] - 0s 2ms/step - loss: 0.7393 - accuracy: 0.4750\n",
      "Epoch 70/100\n",
      "32/32 [==============================] - 0s 2ms/step - loss: 0.7377 - accuracy: 0.4780\n",
      "Epoch 71/100\n",
      "32/32 [==============================] - 0s 2ms/step - loss: 0.7361 - accuracy: 0.4780\n",
      "Epoch 72/100\n",
      "32/32 [==============================] - 0s 2ms/step - loss: 0.7346 - accuracy: 0.4780\n",
      "Epoch 73/100\n",
      "32/32 [==============================] - 0s 3ms/step - loss: 0.7331 - accuracy: 0.4770\n",
      "Epoch 74/100\n",
      "32/32 [==============================] - 0s 3ms/step - loss: 0.7316 - accuracy: 0.4780\n",
      "Epoch 75/100\n",
      "32/32 [==============================] - 0s 3ms/step - loss: 0.7302 - accuracy: 0.4790\n",
      "Epoch 76/100\n",
      "32/32 [==============================] - 0s 2ms/step - loss: 0.7288 - accuracy: 0.4800\n",
      "Epoch 77/100\n",
      "32/32 [==============================] - 0s 3ms/step - loss: 0.7275 - accuracy: 0.4810\n",
      "Epoch 78/100\n",
      "32/32 [==============================] - 0s 2ms/step - loss: 0.7262 - accuracy: 0.4790\n",
      "Epoch 79/100\n",
      "32/32 [==============================] - 0s 3ms/step - loss: 0.7250 - accuracy: 0.4790\n",
      "Epoch 80/100\n",
      "32/32 [==============================] - 0s 3ms/step - loss: 0.7238 - accuracy: 0.4830\n",
      "Epoch 81/100\n",
      "32/32 [==============================] - 0s 2ms/step - loss: 0.7226 - accuracy: 0.4830\n",
      "Epoch 82/100\n",
      "32/32 [==============================] - 0s 3ms/step - loss: 0.7214 - accuracy: 0.4830\n",
      "Epoch 83/100\n",
      "32/32 [==============================] - 0s 2ms/step - loss: 0.7204 - accuracy: 0.4840\n",
      "Epoch 84/100\n",
      "32/32 [==============================] - 0s 2ms/step - loss: 0.7193 - accuracy: 0.4840\n",
      "Epoch 85/100\n",
      "32/32 [==============================] - 0s 2ms/step - loss: 0.7182 - accuracy: 0.4860\n",
      "Epoch 86/100\n",
      "32/32 [==============================] - 0s 2ms/step - loss: 0.7173 - accuracy: 0.4880\n",
      "Epoch 87/100\n",
      "32/32 [==============================] - 0s 3ms/step - loss: 0.7163 - accuracy: 0.4880\n",
      "Epoch 88/100\n",
      "32/32 [==============================] - 0s 2ms/step - loss: 0.7154 - accuracy: 0.4880\n",
      "Epoch 89/100\n",
      "32/32 [==============================] - 0s 3ms/step - loss: 0.7145 - accuracy: 0.4880\n",
      "Epoch 90/100\n",
      "32/32 [==============================] - 0s 2ms/step - loss: 0.7136 - accuracy: 0.4880\n",
      "Epoch 91/100\n",
      "32/32 [==============================] - 0s 2ms/step - loss: 0.7128 - accuracy: 0.4910\n",
      "Epoch 92/100\n",
      "32/32 [==============================] - 0s 2ms/step - loss: 0.7120 - accuracy: 0.4900\n",
      "Epoch 93/100\n",
      "32/32 [==============================] - 0s 3ms/step - loss: 0.7112 - accuracy: 0.4900\n",
      "Epoch 94/100\n",
      "32/32 [==============================] - 0s 3ms/step - loss: 0.7104 - accuracy: 0.4910\n",
      "Epoch 95/100\n",
      "32/32 [==============================] - 0s 2ms/step - loss: 0.7097 - accuracy: 0.4890\n",
      "Epoch 96/100\n",
      "32/32 [==============================] - 0s 2ms/step - loss: 0.7090 - accuracy: 0.4890\n",
      "Epoch 97/100\n",
      "32/32 [==============================] - 0s 3ms/step - loss: 0.7083 - accuracy: 0.4890\n",
      "Epoch 98/100\n",
      "32/32 [==============================] - 0s 2ms/step - loss: 0.7076 - accuracy: 0.4880\n",
      "Epoch 99/100\n",
      "32/32 [==============================] - 0s 2ms/step - loss: 0.7069 - accuracy: 0.4870\n",
      "Epoch 100/100\n",
      "32/32 [==============================] - 0s 3ms/step - loss: 0.7062 - accuracy: 0.4850\n"
     ]
    }
   ],
   "source": [
    "tf.random.set_seed(42)\n",
    "\n",
    "model_4 = tf.keras.Sequential([\n",
    "tf.keras.layers.Dense(1, activation=tf.keras.activations.linear)\n",
    "])\n",
    "\n",
    "model_4.compile(loss='binary_crossentropy',\n",
    "                optimizer= tf.keras.optimizers.Adam(lr=0.001),\n",
    "                metrics=['accuracy']\n",
    ")\n",
    "\n",
    "history = model_4.fit(X, y, epochs=100)"
   ]
  },
  {
   "cell_type": "code",
   "execution_count": 22,
   "id": "8960affc-970e-428e-a813-4fa595efb235",
   "metadata": {},
   "outputs": [
    {
     "name": "stdout",
     "output_type": "stream",
     "text": [
      "doing binary classification\n"
     ]
    },
    {
     "data": {
      "image/png": "[encoded data removed]",
      "text/plain": [
       "<Figure size 432x288 with 1 Axes>"
      ]
     },
     "metadata": {
      "needs_background": "light"
     },
     "output_type": "display_data"
    }
   ],
   "source": [
    "# check the decison boundary for our latest model\n",
    "plot_decision_boundry(model=model_4,\n",
    "                     X=X,\n",
    "                     y=y)"
   ]
  },
  {
   "cell_type": "markdown",
   "id": "3d3bae67-b9f6-4b05-a024-b0a1a465c487",
   "metadata": {},
   "source": [
    "## Building a neural network with non-linear activation"
   ]
  },
  {
   "cell_type": "code",
   "execution_count": 26,
   "id": "6876280d-c24a-46ca-bde0-955f7063d2e6",
   "metadata": {
    "tags": []
   },
   "outputs": [
    {
     "name": "stdout",
     "output_type": "stream",
     "text": [
      "Epoch 1/100\n"
     ]
    },
    {
     "name": "stderr",
     "output_type": "stream",
     "text": [
      "C:\\Users\\rocky\\AppData\\Local\\Programs\\Python\\Python39\\lib\\site-packages\\keras\\optimizer_v2\\adam.py:105: UserWarning: The `lr` argument is deprecated, use `learning_rate` instead.\n",
      "  super(Adam, self).__init__(name, **kwargs)\n"
     ]
    },
    {
     "name": "stdout",
     "output_type": "stream",
     "text": [
      "32/32 [==============================] - 1s 2ms/step - loss: 4.2979 - accuracy: 0.4670\n",
      "Epoch 2/100\n",
      "32/32 [==============================] - 0s 2ms/step - loss: 4.2317 - accuracy: 0.4400\n",
      "Epoch 3/100\n",
      "32/32 [==============================] - 0s 2ms/step - loss: 4.1610 - accuracy: 0.4310\n",
      "Epoch 4/100\n",
      "32/32 [==============================] - 0s 2ms/step - loss: 4.1183 - accuracy: 0.4270\n",
      "Epoch 5/100\n",
      "32/32 [==============================] - 0s 2ms/step - loss: 4.0784 - accuracy: 0.4240\n",
      "Epoch 6/100\n",
      "32/32 [==============================] - 0s 3ms/step - loss: 3.9642 - accuracy: 0.4180\n",
      "Epoch 7/100\n",
      "32/32 [==============================] - 0s 2ms/step - loss: 3.8626 - accuracy: 0.4100\n",
      "Epoch 8/100\n",
      "32/32 [==============================] - 0s 2ms/step - loss: 3.8123 - accuracy: 0.4160\n",
      "Epoch 9/100\n",
      "32/32 [==============================] - 0s 3ms/step - loss: 3.7802 - accuracy: 0.4170\n",
      "Epoch 10/100\n",
      "32/32 [==============================] - 0s 3ms/step - loss: 3.7419 - accuracy: 0.4220\n",
      "Epoch 11/100\n",
      "32/32 [==============================] - 0s 4ms/step - loss: 3.6170 - accuracy: 0.4290\n",
      "Epoch 12/100\n",
      "32/32 [==============================] - 0s 3ms/step - loss: 3.5541 - accuracy: 0.4370\n",
      "Epoch 13/100\n",
      "32/32 [==============================] - 0s 3ms/step - loss: 3.4093 - accuracy: 0.4510\n",
      "Epoch 14/100\n",
      "32/32 [==============================] - 0s 3ms/step - loss: 3.3404 - accuracy: 0.4540\n",
      "Epoch 15/100\n",
      "32/32 [==============================] - 0s 3ms/step - loss: 3.2935 - accuracy: 0.4560\n",
      "Epoch 16/100\n",
      "32/32 [==============================] - 0s 3ms/step - loss: 3.2422 - accuracy: 0.4570\n",
      "Epoch 17/100\n",
      "32/32 [==============================] - 0s 3ms/step - loss: 3.1401 - accuracy: 0.4570\n",
      "Epoch 18/100\n",
      "32/32 [==============================] - 0s 2ms/step - loss: 2.9440 - accuracy: 0.4570\n",
      "Epoch 19/100\n",
      "32/32 [==============================] - 0s 3ms/step - loss: 2.6136 - accuracy: 0.4550\n",
      "Epoch 20/100\n",
      "32/32 [==============================] - 0s 3ms/step - loss: 2.1777 - accuracy: 0.4570\n",
      "Epoch 21/100\n",
      "32/32 [==============================] - 0s 3ms/step - loss: 1.6341 - accuracy: 0.4610\n",
      "Epoch 22/100\n",
      "32/32 [==============================] - 0s 2ms/step - loss: 1.0707 - accuracy: 0.4670\n",
      "Epoch 23/100\n",
      "32/32 [==============================] - 0s 3ms/step - loss: 0.9544 - accuracy: 0.4680\n",
      "Epoch 24/100\n",
      "32/32 [==============================] - 0s 3ms/step - loss: 0.9346 - accuracy: 0.4690\n",
      "Epoch 25/100\n",
      "32/32 [==============================] - 0s 3ms/step - loss: 0.9199 - accuracy: 0.4670\n",
      "Epoch 26/100\n",
      "32/32 [==============================] - 0s 3ms/step - loss: 0.9073 - accuracy: 0.4670\n",
      "Epoch 27/100\n",
      "32/32 [==============================] - 0s 3ms/step - loss: 0.8967 - accuracy: 0.4670\n",
      "Epoch 28/100\n",
      "32/32 [==============================] - 0s 3ms/step - loss: 0.8873 - accuracy: 0.4680\n",
      "Epoch 29/100\n",
      "32/32 [==============================] - 0s 2ms/step - loss: 0.8786 - accuracy: 0.4700\n",
      "Epoch 30/100\n",
      "32/32 [==============================] - 0s 3ms/step - loss: 0.8708 - accuracy: 0.4700\n",
      "Epoch 31/100\n",
      "32/32 [==============================] - 0s 3ms/step - loss: 0.8637 - accuracy: 0.4670\n",
      "Epoch 32/100\n",
      "32/32 [==============================] - 0s 3ms/step - loss: 0.8567 - accuracy: 0.4680\n",
      "Epoch 33/100\n",
      "32/32 [==============================] - 0s 3ms/step - loss: 0.8506 - accuracy: 0.4680\n",
      "Epoch 34/100\n",
      "32/32 [==============================] - 0s 3ms/step - loss: 0.8448 - accuracy: 0.4690\n",
      "Epoch 35/100\n",
      "32/32 [==============================] - 0s 3ms/step - loss: 0.8392 - accuracy: 0.4690\n",
      "Epoch 36/100\n",
      "32/32 [==============================] - 0s 3ms/step - loss: 0.8339 - accuracy: 0.4690\n",
      "Epoch 37/100\n",
      "32/32 [==============================] - 0s 3ms/step - loss: 0.8290 - accuracy: 0.4700\n",
      "Epoch 38/100\n",
      "32/32 [==============================] - 0s 3ms/step - loss: 0.8244 - accuracy: 0.4670\n",
      "Epoch 39/100\n",
      "32/32 [==============================] - 0s 3ms/step - loss: 0.8199 - accuracy: 0.4660\n",
      "Epoch 40/100\n",
      "32/32 [==============================] - 0s 3ms/step - loss: 0.8156 - accuracy: 0.4670\n",
      "Epoch 41/100\n",
      "32/32 [==============================] - 0s 2ms/step - loss: 0.8115 - accuracy: 0.4660\n",
      "Epoch 42/100\n",
      "32/32 [==============================] - 0s 3ms/step - loss: 0.8075 - accuracy: 0.4670\n",
      "Epoch 43/100\n",
      "32/32 [==============================] - 0s 3ms/step - loss: 0.8035 - accuracy: 0.4680\n",
      "Epoch 44/100\n",
      "32/32 [==============================] - 0s 3ms/step - loss: 0.7999 - accuracy: 0.4670\n",
      "Epoch 45/100\n",
      "32/32 [==============================] - 0s 3ms/step - loss: 0.7964 - accuracy: 0.4690\n",
      "Epoch 46/100\n",
      "32/32 [==============================] - 0s 3ms/step - loss: 0.7930 - accuracy: 0.4680\n",
      "Epoch 47/100\n",
      "32/32 [==============================] - 0s 3ms/step - loss: 0.7898 - accuracy: 0.4680\n",
      "Epoch 48/100\n",
      "32/32 [==============================] - 0s 3ms/step - loss: 0.7866 - accuracy: 0.4680\n",
      "Epoch 49/100\n",
      "32/32 [==============================] - 0s 3ms/step - loss: 0.7836 - accuracy: 0.4710\n",
      "Epoch 50/100\n",
      "32/32 [==============================] - 0s 3ms/step - loss: 0.7806 - accuracy: 0.4720\n",
      "Epoch 51/100\n",
      "32/32 [==============================] - 0s 3ms/step - loss: 0.7777 - accuracy: 0.4720\n",
      "Epoch 52/100\n",
      "32/32 [==============================] - 0s 2ms/step - loss: 0.7751 - accuracy: 0.4710\n",
      "Epoch 53/100\n",
      "32/32 [==============================] - 0s 3ms/step - loss: 0.7724 - accuracy: 0.4710\n",
      "Epoch 54/100\n",
      "32/32 [==============================] - 0s 3ms/step - loss: 0.7698 - accuracy: 0.4720\n",
      "Epoch 55/100\n",
      "32/32 [==============================] - 0s 3ms/step - loss: 0.7673 - accuracy: 0.4740\n",
      "Epoch 56/100\n",
      "32/32 [==============================] - 0s 3ms/step - loss: 0.7649 - accuracy: 0.4740\n",
      "Epoch 57/100\n",
      "32/32 [==============================] - 0s 3ms/step - loss: 0.7625 - accuracy: 0.4750\n",
      "Epoch 58/100\n",
      "32/32 [==============================] - 0s 2ms/step - loss: 0.7602 - accuracy: 0.4740\n",
      "Epoch 59/100\n",
      "32/32 [==============================] - 0s 3ms/step - loss: 0.7580 - accuracy: 0.4760\n",
      "Epoch 60/100\n",
      "32/32 [==============================] - 0s 3ms/step - loss: 0.7559 - accuracy: 0.4750\n",
      "Epoch 61/100\n",
      "32/32 [==============================] - 0s 2ms/step - loss: 0.7539 - accuracy: 0.4770\n",
      "Epoch 62/100\n",
      "32/32 [==============================] - 0s 3ms/step - loss: 0.7519 - accuracy: 0.4760\n",
      "Epoch 63/100\n",
      "32/32 [==============================] - 0s 3ms/step - loss: 0.7499 - accuracy: 0.4770\n",
      "Epoch 64/100\n",
      "32/32 [==============================] - 0s 3ms/step - loss: 0.7481 - accuracy: 0.4780\n",
      "Epoch 65/100\n",
      "32/32 [==============================] - 0s 3ms/step - loss: 0.7463 - accuracy: 0.4770\n",
      "Epoch 66/100\n",
      "32/32 [==============================] - 0s 3ms/step - loss: 0.7444 - accuracy: 0.4780\n",
      "Epoch 67/100\n",
      "32/32 [==============================] - 0s 4ms/step - loss: 0.7427 - accuracy: 0.4780\n",
      "Epoch 68/100\n",
      "32/32 [==============================] - 0s 3ms/step - loss: 0.7410 - accuracy: 0.4760\n",
      "Epoch 69/100\n",
      "32/32 [==============================] - 0s 3ms/step - loss: 0.7393 - accuracy: 0.4750\n",
      "Epoch 70/100\n",
      "32/32 [==============================] - 0s 2ms/step - loss: 0.7377 - accuracy: 0.4780\n",
      "Epoch 71/100\n",
      "32/32 [==============================] - 0s 3ms/step - loss: 0.7361 - accuracy: 0.4780\n",
      "Epoch 72/100\n",
      "32/32 [==============================] - 0s 3ms/step - loss: 0.7346 - accuracy: 0.4780\n",
      "Epoch 73/100\n",
      "32/32 [==============================] - 0s 3ms/step - loss: 0.7331 - accuracy: 0.4770\n",
      "Epoch 74/100\n",
      "32/32 [==============================] - 0s 3ms/step - loss: 0.7316 - accuracy: 0.4780\n",
      "Epoch 75/100\n",
      "32/32 [==============================] - 0s 3ms/step - loss: 0.7302 - accuracy: 0.4790\n",
      "Epoch 76/100\n",
      "32/32 [==============================] - 0s 4ms/step - loss: 0.7288 - accuracy: 0.4800\n",
      "Epoch 77/100\n",
      "32/32 [==============================] - 0s 3ms/step - loss: 0.7275 - accuracy: 0.4810\n",
      "Epoch 78/100\n",
      "32/32 [==============================] - 0s 3ms/step - loss: 0.7262 - accuracy: 0.4790\n",
      "Epoch 79/100\n",
      "32/32 [==============================] - 0s 3ms/step - loss: 0.7250 - accuracy: 0.4790\n",
      "Epoch 80/100\n",
      "32/32 [==============================] - 0s 4ms/step - loss: 0.7238 - accuracy: 0.4830\n",
      "Epoch 81/100\n",
      "32/32 [==============================] - 0s 5ms/step - loss: 0.7226 - accuracy: 0.4830\n",
      "Epoch 82/100\n",
      "32/32 [==============================] - 0s 5ms/step - loss: 0.7214 - accuracy: 0.4830\n",
      "Epoch 83/100\n",
      "32/32 [==============================] - 0s 5ms/step - loss: 0.7204 - accuracy: 0.4840\n",
      "Epoch 84/100\n",
      "32/32 [==============================] - 0s 5ms/step - loss: 0.7193 - accuracy: 0.4840\n",
      "Epoch 85/100\n",
      "32/32 [==============================] - 0s 5ms/step - loss: 0.7182 - accuracy: 0.4860\n",
      "Epoch 86/100\n",
      "32/32 [==============================] - 0s 5ms/step - loss: 0.7173 - accuracy: 0.4880\n",
      "Epoch 87/100\n",
      "32/32 [==============================] - 0s 4ms/step - loss: 0.7163 - accuracy: 0.4880\n",
      "Epoch 88/100\n",
      "32/32 [==============================] - 0s 3ms/step - loss: 0.7154 - accuracy: 0.4880\n",
      "Epoch 89/100\n",
      "32/32 [==============================] - 0s 3ms/step - loss: 0.7145 - accuracy: 0.4880\n",
      "Epoch 90/100\n",
      "32/32 [==============================] - 0s 3ms/step - loss: 0.7136 - accuracy: 0.4880\n",
      "Epoch 91/100\n",
      "32/32 [==============================] - 0s 3ms/step - loss: 0.7128 - accuracy: 0.4910\n",
      "Epoch 92/100\n",
      "32/32 [==============================] - 0s 6ms/step - loss: 0.7120 - accuracy: 0.4900\n",
      "Epoch 93/100\n",
      "32/32 [==============================] - 0s 2ms/step - loss: 0.7112 - accuracy: 0.4900\n",
      "Epoch 94/100\n",
      "32/32 [==============================] - 0s 2ms/step - loss: 0.7104 - accuracy: 0.4910\n",
      "Epoch 95/100\n",
      "32/32 [==============================] - 0s 3ms/step - loss: 0.7097 - accuracy: 0.4890\n",
      "Epoch 96/100\n",
      "32/32 [==============================] - 0s 3ms/step - loss: 0.7090 - accuracy: 0.4890\n",
      "Epoch 97/100\n",
      "32/32 [==============================] - 0s 3ms/step - loss: 0.7083 - accuracy: 0.4890\n",
      "Epoch 98/100\n",
      "32/32 [==============================] - 0s 3ms/step - loss: 0.7076 - accuracy: 0.4880\n",
      "Epoch 99/100\n",
      "32/32 [==============================] - 0s 2ms/step - loss: 0.7069 - accuracy: 0.4870\n",
      "Epoch 100/100\n",
      "32/32 [==============================] - 0s 2ms/step - loss: 0.7062 - accuracy: 0.4850\n"
     ]
    }
   ],
   "source": [
    "tf.random.set_seed(42)\n",
    "\n",
    "model_5 = tf.keras.Sequential([\n",
    "tf.keras.layers.Dense(1, activation='relu')\n",
    "])\n",
    "\n",
    "model_5.compile(loss=tf.keras.losses.BinaryCrossentropy(),\n",
    "                optimizer= tf.keras.optimizers.Adam(lr=0.001),\n",
    "                metrics=['accuracy']\n",
    ")\n",
    "\n",
    "history = model_5.fit(X, y, epochs=100)"
   ]
  },
  {
   "cell_type": "markdown",
   "id": "a8f19a48-2835-4b71-b8d9-44b1ec7c4b61",
   "metadata": {},
   "source": [
    "## Improving the model by adding multi-layer neural network"
   ]
  },
  {
   "cell_type": "code",
   "execution_count": 24,
   "id": "b003b385-e1d9-4870-a2bb-dbf9182b3a37",
   "metadata": {
    "tags": []
   },
   "outputs": [
    {
     "name": "stderr",
     "output_type": "stream",
     "text": [
      "C:\\Users\\rocky\\AppData\\Local\\Programs\\Python\\Python39\\lib\\site-packages\\keras\\optimizer_v2\\adam.py:105: UserWarning: The `lr` argument is deprecated, use `learning_rate` instead.\n",
      "  super(Adam, self).__init__(name, **kwargs)\n"
     ]
    }
   ],
   "source": [
    "tf.random.set_seed(42)\n",
    "\n",
    "model_6 = tf.keras.Sequential([\n",
    "tf.keras.layers.Dense(4, activation='relu'),\n",
    "tf.keras.layers.Dense(4, activation='relu'),\n",
    "tf.keras.layers.Dense(1)\n",
    "    \n",
    "    \n",
    "    \n",
    "])\n",
    "\n",
    "model_6.compile(loss=tf.keras.losses.BinaryCrossentropy(),\n",
    "                optimizer= tf.keras.optimizers.Adam(lr=0.001),\n",
    "                metrics=['accuracy']\n",
    ")\n",
    "\n",
    "history = model_6.fit(X, y, epochs=250,verbose=0)"
   ]
  },
  {
   "cell_type": "code",
   "execution_count": 27,
   "id": "ad8a2ca9-e63e-4a76-a90f-22ad8c0b3c78",
   "metadata": {},
   "outputs": [
    {
     "name": "stdout",
     "output_type": "stream",
     "text": [
      "doing binary classification\n"
     ]
    },
    {
     "data": {
      "image/png": "[encoded data removed]",
      "text/plain": [
       "<Figure size 432x288 with 1 Axes>"
      ]
     },
     "metadata": {
      "needs_background": "light"
     },
     "output_type": "display_data"
    }
   ],
   "source": [
    "# Plot our model predicitions\n",
    "plot_decision_boundry(model=model_6,\n",
    "                      X=X,\n",
    "                      y=y)"
   ]
  },
  {
   "cell_type": "code",
   "execution_count": 28,
   "id": "d6910bec-c560-47ee-bc34-efa8f7775ada",
   "metadata": {},
   "outputs": [
    {
     "name": "stdout",
     "output_type": "stream",
     "text": [
      "32/32 [==============================] - 0s 2ms/step - loss: 7.7125 - accuracy: 0.5000\n"
     ]
    },
    {
     "data": {
      "text/plain": [
       "[7.712474346160889, 0.5]"
      ]
     },
     "execution_count": 28,
     "metadata": {},
     "output_type": "execute_result"
    }
   ],
   "source": [
    "# Evaluate the model\n",
    "model_6.evaluate(X, y)"
   ]
  },
  {
   "cell_type": "code",
   "execution_count": 29,
   "id": "32568efb-ab28-418e-8e0b-bf1d559eb6f5",
   "metadata": {},
   "outputs": [],
   "source": [
    "## Improve the model by adding output activation function\n",
    "tf.random.set_seed(42)\n",
    "\n",
    "model_7 = tf.keras.Sequential([\n",
    "tf.keras.layers.Dense(4, activation='relu'),\n",
    "tf.keras.layers.Dense(4, activation='relu'),\n",
    "tf.keras.layers.Dense(1, activation=tf.keras.activations.sigmoid)\n",
    "    \n",
    "    \n",
    "    \n",
    "])\n",
    "\n",
    "model_7.compile(loss=tf.keras.losses.BinaryCrossentropy(),\n",
    "                optimizer= tf.keras.optimizers.Adam(lr=0.001),\n",
    "                metrics=['accuracy']\n",
    ")\n",
    "\n",
    "history = model_7.fit(X, y, epochs=100,verbose=0)"
   ]
  },
  {
   "cell_type": "code",
   "execution_count": 30,
   "id": "2cd2e2f7-2b6e-466f-83db-2421bcef4c27",
   "metadata": {},
   "outputs": [
    {
     "name": "stdout",
     "output_type": "stream",
     "text": [
      "doing binary classification\n"
     ]
    },
    {
     "data": {
      "image/png": "[encoded data removed]",
      "text/plain": [
       "<Figure size 432x288 with 1 Axes>"
      ]
     },
     "metadata": {
      "needs_background": "light"
     },
     "output_type": "display_data"
    }
   ],
   "source": [
    "# Plot our model predicitions\n",
    "plot_decision_boundry(model=model_7,\n",
    "                      X=X,\n",
    "                      y=y)"
   ]
  },
  {
   "cell_type": "code",
   "execution_count": 31,
   "id": "9542bd90-8fc8-46b7-ab46-74c27e5f9390",
   "metadata": {},
   "outputs": [
    {
     "name": "stdout",
     "output_type": "stream",
     "text": [
      "32/32 [==============================] - 0s 3ms/step - loss: 0.2948 - accuracy: 0.9910\n"
     ]
    },
    {
     "data": {
      "text/plain": [
       "[0.2948004901409149, 0.9909999966621399]"
      ]
     },
     "execution_count": 31,
     "metadata": {},
     "output_type": "execute_result"
    }
   ],
   "source": [
    "# Evaluate the model\n",
    "model_7.evaluate(X, y)"
   ]
  },
  {
   "cell_type": "markdown",
   "id": "024bc77f-bbf6-4b86-ac26-4c0bd650956a",
   "metadata": {},
   "source": [
    "## Evaluating and improving our classification"
   ]
  },
  {
   "cell_type": "code",
   "execution_count": 32,
   "id": "22dc5f75-78e1-431f-bc21-c3ea22fdc26f",
   "metadata": {},
   "outputs": [
    {
     "data": {
      "text/plain": [
       "((800, 2), (200, 2), (800,), (200,))"
      ]
     },
     "execution_count": 32,
     "metadata": {},
     "output_type": "execute_result"
    }
   ],
   "source": [
    "# SPlit into train test split\n",
    "X_train,  y_train = X[:800], y[:800]\n",
    "\n",
    "X_test , y_test = X[800:], y[800:] \n",
    "\n",
    "X_train.shape, X_test.shape, y_train.shape, y_test.shape"
   ]
  },
  {
   "cell_type": "code",
   "execution_count": 33,
   "id": "09ab8f15-bf0d-49e7-9a64-b370326f4aeb",
   "metadata": {
    "collapsed": true,
    "jupyter": {
     "outputs_hidden": true
    },
    "tags": []
   },
   "outputs": [
    {
     "name": "stdout",
     "output_type": "stream",
     "text": [
      "Epoch 1/25\n",
      "25/25 [==============================] - 1s 2ms/step - loss: 0.6847 - accuracy: 0.5425\n",
      "Epoch 2/25\n",
      "25/25 [==============================] - 0s 3ms/step - loss: 0.6777 - accuracy: 0.5525\n",
      "Epoch 3/25\n",
      "25/25 [==============================] - 0s 3ms/step - loss: 0.6736 - accuracy: 0.5512\n",
      "Epoch 4/25\n",
      "25/25 [==============================] - 0s 2ms/step - loss: 0.6681 - accuracy: 0.5775\n",
      "Epoch 5/25\n",
      "25/25 [==============================] - 0s 2ms/step - loss: 0.6633 - accuracy: 0.5850\n",
      "Epoch 6/25\n",
      "25/25 [==============================] - 0s 3ms/step - loss: 0.6546 - accuracy: 0.5838\n",
      "Epoch 7/25\n",
      "25/25 [==============================] - 0s 3ms/step - loss: 0.6413 - accuracy: 0.6750\n",
      "Epoch 8/25\n",
      "25/25 [==============================] - 0s 3ms/step - loss: 0.6264 - accuracy: 0.7013\n",
      "Epoch 9/25\n",
      "25/25 [==============================] - 0s 3ms/step - loss: 0.6038 - accuracy: 0.7487\n",
      "Epoch 10/25\n",
      "25/25 [==============================] - 0s 3ms/step - loss: 0.5714 - accuracy: 0.7738\n",
      "Epoch 11/25\n",
      "25/25 [==============================] - 0s 3ms/step - loss: 0.5404 - accuracy: 0.7650\n",
      "Epoch 12/25\n",
      "25/25 [==============================] - 0s 3ms/step - loss: 0.5015 - accuracy: 0.7837\n",
      "Epoch 13/25\n",
      "25/25 [==============================] - 0s 3ms/step - loss: 0.4683 - accuracy: 0.7975\n",
      "Epoch 14/25\n",
      "25/25 [==============================] - 0s 2ms/step - loss: 0.4113 - accuracy: 0.8450\n",
      "Epoch 15/25\n",
      "25/25 [==============================] - 0s 3ms/step - loss: 0.3625 - accuracy: 0.9125\n",
      "Epoch 16/25\n",
      "25/25 [==============================] - 0s 3ms/step - loss: 0.3209 - accuracy: 0.9312\n",
      "Epoch 17/25\n",
      "25/25 [==============================] - 0s 3ms/step - loss: 0.2847 - accuracy: 0.9488\n",
      "Epoch 18/25\n",
      "25/25 [==============================] - 0s 2ms/step - loss: 0.2597 - accuracy: 0.9525\n",
      "Epoch 19/25\n",
      "25/25 [==============================] - 0s 2ms/step - loss: 0.2375 - accuracy: 0.9563\n",
      "Epoch 20/25\n",
      "25/25 [==============================] - 0s 2ms/step - loss: 0.2135 - accuracy: 0.9663\n",
      "Epoch 21/25\n",
      "25/25 [==============================] - 0s 3ms/step - loss: 0.1938 - accuracy: 0.9775\n",
      "Epoch 22/25\n",
      "25/25 [==============================] - 0s 2ms/step - loss: 0.1752 - accuracy: 0.9737\n",
      "Epoch 23/25\n",
      "25/25 [==============================] - 0s 2ms/step - loss: 0.1619 - accuracy: 0.9787\n",
      "Epoch 24/25\n",
      "25/25 [==============================] - 0s 3ms/step - loss: 0.1550 - accuracy: 0.9775\n",
      "Epoch 25/25\n",
      "25/25 [==============================] - 0s 2ms/step - loss: 0.1490 - accuracy: 0.9762\n"
     ]
    }
   ],
   "source": [
    "# To re-create a model to fit on the training data and evalluate the test data\n",
    "\n",
    "tf.random.set_seed(42)\n",
    "\n",
    "model_8 = tf.keras.Sequential([\n",
    "tf.keras.layers.Dense(4, activation='relu'),\n",
    "tf.keras.layers.Dense(4, activation='relu'),\n",
    "tf.keras.layers.Dense(1, activation=tf.keras.activations.sigmoid)\n",
    "    \n",
    "    \n",
    "    \n",
    "])\n",
    "\n",
    "model_8.compile(loss=tf.keras.losses.BinaryCrossentropy(),\n",
    "                optimizer= tf.keras.optimizers.Adam(lr=0.01),\n",
    "                metrics=['accuracy']\n",
    ")\n",
    "\n",
    "history = model_8.fit(X_train, y_train, epochs=25, verbose=1)"
   ]
  },
  {
   "cell_type": "code",
   "execution_count": 34,
   "id": "c4018611-3cd4-4e54-9832-5eaee94093c1",
   "metadata": {},
   "outputs": [
    {
     "name": "stdout",
     "output_type": "stream",
     "text": [
      "7/7 [==============================] - 0s 2ms/step - loss: 0.2961 - accuracy: 0.9850\n"
     ]
    },
    {
     "data": {
      "text/plain": [
       "[0.296130895614624, 0.9850000143051147]"
      ]
     },
     "execution_count": 34,
     "metadata": {},
     "output_type": "execute_result"
    }
   ],
   "source": [
    "# Evaluate the model\n",
    "model_7.evaluate(X_test, y_test)"
   ]
  },
  {
   "cell_type": "code",
   "execution_count": 35,
   "id": "a4ab4f8b-29c2-4e5a-b629-d36dd5a8e833",
   "metadata": {},
   "outputs": [
    {
     "name": "stdout",
     "output_type": "stream",
     "text": [
      "doing binary classification\n",
      "doing binary classification\n"
     ]
    },
    {
     "data": {
      "image/png": "[encoded data removed]",
      "text/plain": [
       "<Figure size 864x432 with 2 Axes>"
      ]
     },
     "metadata": {
      "needs_background": "light"
     },
     "output_type": "display_data"
    }
   ],
   "source": [
    "# plot the decision boundary\n",
    "plt.figure(figsize=(12,6))\n",
    "plt.subplot(1, 2, 1)\n",
    "plt.title('Train')\n",
    "plot_decision_boundry(model=model_8, X=X_train, y=y_train)\n",
    "\n",
    "plt.subplot(1, 2, 2)\n",
    "plt.title('Test')\n",
    "plot_decision_boundry(model=model_8, X=X_test, y=y_test)\n",
    "\n",
    "plt.show()"
   ]
  },
  {
   "cell_type": "markdown",
   "id": "291f4fdd-2a4b-435e-9877-12b2f412cd98",
   "metadata": {},
   "source": [
    "## Plot the history object into DataFrame"
   ]
  },
  {
   "cell_type": "code",
   "execution_count": 36,
   "id": "606da543-6af9-48f1-8120-ce2060cfebb4",
   "metadata": {
    "tags": []
   },
   "outputs": [
    {
     "data": {
      "text/plain": [
       "{'loss': [0.6846511960029602,\n",
       "  0.6777210235595703,\n",
       "  0.6735944151878357,\n",
       "  0.6681485772132874,\n",
       "  0.6632686853408813,\n",
       "  0.6545671820640564,\n",
       "  0.6412575244903564,\n",
       "  0.6264280676841736,\n",
       "  0.6038310527801514,\n",
       "  0.5714035630226135,\n",
       "  0.540442943572998,\n",
       "  0.5015039443969727,\n",
       "  0.468331903219223,\n",
       "  0.4113016128540039,\n",
       "  0.3625060021877289,\n",
       "  0.32090437412261963,\n",
       "  0.28470802307128906,\n",
       "  0.25971999764442444,\n",
       "  0.23746901750564575,\n",
       "  0.21351958811283112,\n",
       "  0.1938202828168869,\n",
       "  0.17524370551109314,\n",
       "  0.16189303994178772,\n",
       "  0.1549890786409378,\n",
       "  0.14897286891937256],\n",
       " 'accuracy': [0.5425000190734863,\n",
       "  0.5525000095367432,\n",
       "  0.5512499809265137,\n",
       "  0.5774999856948853,\n",
       "  0.5849999785423279,\n",
       "  0.5837500095367432,\n",
       "  0.675000011920929,\n",
       "  0.7012500166893005,\n",
       "  0.7487499713897705,\n",
       "  0.7737500071525574,\n",
       "  0.7649999856948853,\n",
       "  0.7837499976158142,\n",
       "  0.7975000143051147,\n",
       "  0.8450000286102295,\n",
       "  0.9125000238418579,\n",
       "  0.9312499761581421,\n",
       "  0.9487500190734863,\n",
       "  0.9524999856948853,\n",
       "  0.956250011920929,\n",
       "  0.9662500023841858,\n",
       "  0.9775000214576721,\n",
       "  0.9737499952316284,\n",
       "  0.9787499904632568,\n",
       "  0.9775000214576721,\n",
       "  0.9762499928474426]}"
      ]
     },
     "execution_count": 36,
     "metadata": {},
     "output_type": "execute_result"
    }
   ],
   "source": [
    "history.history"
   ]
  },
  {
   "cell_type": "code",
   "execution_count": 37,
   "id": "07c1d12a-5619-4ffb-a437-cdd18816fdac",
   "metadata": {
    "tags": []
   },
   "outputs": [
    {
     "data": {
      "text/html": [
       "<div>\n",
       "<style scoped>\n",
       "    .dataframe tbody tr th:only-of-type {\n",
       "        vertical-align: middle;\n",
       "    }\n",
       "\n",
       "    .dataframe tbody tr th {\n",
       "        vertical-align: top;\n",
       "    }\n",
       "\n",
       "    .dataframe thead th {\n",
       "        text-align: right;\n",
       "    }\n",
       "</style>\n",
       "<table border=\"1\" class=\"dataframe\">\n",
       "  <thead>\n",
       "    <tr style=\"text-align: right;\">\n",
       "      <th></th>\n",
       "      <th>loss</th>\n",
       "      <th>accuracy</th>\n",
       "    </tr>\n",
       "  </thead>\n",
       "  <tbody>\n",
       "    <tr>\n",
       "      <th>0</th>\n",
       "      <td>0.684651</td>\n",
       "      <td>0.54250</td>\n",
       "    </tr>\n",
       "    <tr>\n",
       "      <th>1</th>\n",
       "      <td>0.677721</td>\n",
       "      <td>0.55250</td>\n",
       "    </tr>\n",
       "    <tr>\n",
       "      <th>2</th>\n",
       "      <td>0.673594</td>\n",
       "      <td>0.55125</td>\n",
       "    </tr>\n",
       "    <tr>\n",
       "      <th>3</th>\n",
       "      <td>0.668149</td>\n",
       "      <td>0.57750</td>\n",
       "    </tr>\n",
       "    <tr>\n",
       "      <th>4</th>\n",
       "      <td>0.663269</td>\n",
       "      <td>0.58500</td>\n",
       "    </tr>\n",
       "    <tr>\n",
       "      <th>5</th>\n",
       "      <td>0.654567</td>\n",
       "      <td>0.58375</td>\n",
       "    </tr>\n",
       "    <tr>\n",
       "      <th>6</th>\n",
       "      <td>0.641258</td>\n",
       "      <td>0.67500</td>\n",
       "    </tr>\n",
       "    <tr>\n",
       "      <th>7</th>\n",
       "      <td>0.626428</td>\n",
       "      <td>0.70125</td>\n",
       "    </tr>\n",
       "    <tr>\n",
       "      <th>8</th>\n",
       "      <td>0.603831</td>\n",
       "      <td>0.74875</td>\n",
       "    </tr>\n",
       "    <tr>\n",
       "      <th>9</th>\n",
       "      <td>0.571404</td>\n",
       "      <td>0.77375</td>\n",
       "    </tr>\n",
       "    <tr>\n",
       "      <th>10</th>\n",
       "      <td>0.540443</td>\n",
       "      <td>0.76500</td>\n",
       "    </tr>\n",
       "    <tr>\n",
       "      <th>11</th>\n",
       "      <td>0.501504</td>\n",
       "      <td>0.78375</td>\n",
       "    </tr>\n",
       "    <tr>\n",
       "      <th>12</th>\n",
       "      <td>0.468332</td>\n",
       "      <td>0.79750</td>\n",
       "    </tr>\n",
       "    <tr>\n",
       "      <th>13</th>\n",
       "      <td>0.411302</td>\n",
       "      <td>0.84500</td>\n",
       "    </tr>\n",
       "    <tr>\n",
       "      <th>14</th>\n",
       "      <td>0.362506</td>\n",
       "      <td>0.91250</td>\n",
       "    </tr>\n",
       "    <tr>\n",
       "      <th>15</th>\n",
       "      <td>0.320904</td>\n",
       "      <td>0.93125</td>\n",
       "    </tr>\n",
       "    <tr>\n",
       "      <th>16</th>\n",
       "      <td>0.284708</td>\n",
       "      <td>0.94875</td>\n",
       "    </tr>\n",
       "    <tr>\n",
       "      <th>17</th>\n",
       "      <td>0.259720</td>\n",
       "      <td>0.95250</td>\n",
       "    </tr>\n",
       "    <tr>\n",
       "      <th>18</th>\n",
       "      <td>0.237469</td>\n",
       "      <td>0.95625</td>\n",
       "    </tr>\n",
       "    <tr>\n",
       "      <th>19</th>\n",
       "      <td>0.213520</td>\n",
       "      <td>0.96625</td>\n",
       "    </tr>\n",
       "    <tr>\n",
       "      <th>20</th>\n",
       "      <td>0.193820</td>\n",
       "      <td>0.97750</td>\n",
       "    </tr>\n",
       "    <tr>\n",
       "      <th>21</th>\n",
       "      <td>0.175244</td>\n",
       "      <td>0.97375</td>\n",
       "    </tr>\n",
       "    <tr>\n",
       "      <th>22</th>\n",
       "      <td>0.161893</td>\n",
       "      <td>0.97875</td>\n",
       "    </tr>\n",
       "    <tr>\n",
       "      <th>23</th>\n",
       "      <td>0.154989</td>\n",
       "      <td>0.97750</td>\n",
       "    </tr>\n",
       "    <tr>\n",
       "      <th>24</th>\n",
       "      <td>0.148973</td>\n",
       "      <td>0.97625</td>\n",
       "    </tr>\n",
       "  </tbody>\n",
       "</table>\n",
       "</div>"
      ],
      "text/plain": [
       "        loss  accuracy\n",
       "0   0.684651   0.54250\n",
       "1   0.677721   0.55250\n",
       "2   0.673594   0.55125\n",
       "3   0.668149   0.57750\n",
       "4   0.663269   0.58500\n",
       "5   0.654567   0.58375\n",
       "6   0.641258   0.67500\n",
       "7   0.626428   0.70125\n",
       "8   0.603831   0.74875\n",
       "9   0.571404   0.77375\n",
       "10  0.540443   0.76500\n",
       "11  0.501504   0.78375\n",
       "12  0.468332   0.79750\n",
       "13  0.411302   0.84500\n",
       "14  0.362506   0.91250\n",
       "15  0.320904   0.93125\n",
       "16  0.284708   0.94875\n",
       "17  0.259720   0.95250\n",
       "18  0.237469   0.95625\n",
       "19  0.213520   0.96625\n",
       "20  0.193820   0.97750\n",
       "21  0.175244   0.97375\n",
       "22  0.161893   0.97875\n",
       "23  0.154989   0.97750\n",
       "24  0.148973   0.97625"
      ]
     },
     "execution_count": 37,
     "metadata": {},
     "output_type": "execute_result"
    }
   ],
   "source": [
    "# Convert into DataFrame\n",
    "pd.DataFrame(history.history)"
   ]
  },
  {
   "cell_type": "code",
   "execution_count": 38,
   "id": "90a4af5c-bc03-4d94-8740-9fad30cf233c",
   "metadata": {},
   "outputs": [
    {
     "data": {
      "text/plain": [
       "Text(0.5, 1.0, 'Model_8 loss curve')"
      ]
     },
     "execution_count": 38,
     "metadata": {},
     "output_type": "execute_result"
    },
    {
     "data": {
      "image/png": "[encoded data removed]",
      "text/plain": [
       "<Figure size 432x288 with 1 Axes>"
      ]
     },
     "metadata": {
      "needs_background": "light"
     },
     "output_type": "display_data"
    }
   ],
   "source": [
    "# Plot the loss curves\n",
    "pd.DataFrame(history.history).plot()\n",
    "plt.title('Model_8 loss curve')"
   ]
  },
  {
   "cell_type": "markdown",
   "id": "0b76a537-ef41-4101-9236-528f7a1bd269",
   "metadata": {},
   "source": [
    "### Observation:\n",
    "        The loss function is going down indicates the model is improving"
   ]
  },
  {
   "cell_type": "markdown",
   "id": "e968567d-f9f9-443e-8706-b1d78277f0e0",
   "metadata": {},
   "source": [
    "## Finding a best learning rate by using `CALLBACK` function"
   ]
  },
  {
   "cell_type": "code",
   "execution_count": 39,
   "id": "53814fe3-9c24-49cc-8bca-d1476bc5a7af",
   "metadata": {
    "collapsed": true,
    "jupyter": {
     "outputs_hidden": true
    },
    "tags": []
   },
   "outputs": [
    {
     "name": "stdout",
     "output_type": "stream",
     "text": [
      "Epoch 1/100\n",
      "25/25 [==============================] - 1s 3ms/step - loss: 0.6945 - accuracy: 0.4988 - lr: 1.0000e-04\n",
      "Epoch 2/100\n",
      "25/25 [==============================] - 0s 3ms/step - loss: 0.6938 - accuracy: 0.4975 - lr: 1.1220e-04\n",
      "Epoch 3/100\n",
      "25/25 [==============================] - 0s 3ms/step - loss: 0.6930 - accuracy: 0.4963 - lr: 1.2589e-04\n",
      "Epoch 4/100\n",
      "25/25 [==============================] - 0s 2ms/step - loss: 0.6922 - accuracy: 0.4975 - lr: 1.4125e-04\n",
      "Epoch 5/100\n",
      "25/25 [==============================] - 0s 3ms/step - loss: 0.6914 - accuracy: 0.5063 - lr: 1.5849e-04\n",
      "Epoch 6/100\n",
      "25/25 [==============================] - 0s 3ms/step - loss: 0.6906 - accuracy: 0.5013 - lr: 1.7783e-04\n",
      "Epoch 7/100\n",
      "25/25 [==============================] - 0s 3ms/step - loss: 0.6898 - accuracy: 0.4950 - lr: 1.9953e-04\n",
      "Epoch 8/100\n",
      "25/25 [==============================] - 0s 3ms/step - loss: 0.6889 - accuracy: 0.5038 - lr: 2.2387e-04\n",
      "Epoch 9/100\n",
      "25/25 [==============================] - 0s 3ms/step - loss: 0.6880 - accuracy: 0.5013 - lr: 2.5119e-04\n",
      "Epoch 10/100\n",
      "25/25 [==============================] - 0s 3ms/step - loss: 0.6871 - accuracy: 0.5050 - lr: 2.8184e-04\n",
      "Epoch 11/100\n",
      "25/25 [==============================] - 0s 3ms/step - loss: 0.6863 - accuracy: 0.5200 - lr: 3.1623e-04\n",
      "Epoch 12/100\n",
      "25/25 [==============================] - 0s 2ms/step - loss: 0.6856 - accuracy: 0.5163 - lr: 3.5481e-04\n",
      "Epoch 13/100\n",
      "25/25 [==============================] - 0s 2ms/step - loss: 0.6847 - accuracy: 0.5175 - lr: 3.9811e-04\n",
      "Epoch 14/100\n",
      "25/25 [==============================] - 0s 3ms/step - loss: 0.6842 - accuracy: 0.5200 - lr: 4.4668e-04\n",
      "Epoch 15/100\n",
      "25/25 [==============================] - 0s 3ms/step - loss: 0.6835 - accuracy: 0.5213 - lr: 5.0119e-04\n",
      "Epoch 16/100\n",
      "25/25 [==============================] - 0s 3ms/step - loss: 0.6829 - accuracy: 0.5213 - lr: 5.6234e-04\n",
      "Epoch 17/100\n",
      "25/25 [==============================] - 0s 3ms/step - loss: 0.6826 - accuracy: 0.5225 - lr: 6.3096e-04\n",
      "Epoch 18/100\n",
      "25/25 [==============================] - 0s 3ms/step - loss: 0.6819 - accuracy: 0.5300 - lr: 7.0795e-04\n",
      "Epoch 19/100\n",
      "25/25 [==============================] - 0s 4ms/step - loss: 0.6816 - accuracy: 0.5312 - lr: 7.9433e-04\n",
      "Epoch 20/100\n",
      "25/25 [==============================] - 0s 3ms/step - loss: 0.6811 - accuracy: 0.5387 - lr: 8.9125e-04\n",
      "Epoch 21/100\n",
      "25/25 [==============================] - 0s 3ms/step - loss: 0.6806 - accuracy: 0.5400 - lr: 0.0010\n",
      "Epoch 22/100\n",
      "25/25 [==============================] - 0s 3ms/step - loss: 0.6801 - accuracy: 0.5412 - lr: 0.0011\n",
      "Epoch 23/100\n",
      "25/25 [==============================] - 0s 3ms/step - loss: 0.6796 - accuracy: 0.5400 - lr: 0.0013\n",
      "Epoch 24/100\n",
      "25/25 [==============================] - 0s 3ms/step - loss: 0.6790 - accuracy: 0.5425 - lr: 0.0014\n",
      "Epoch 25/100\n",
      "25/25 [==============================] - 0s 4ms/step - loss: 0.6784 - accuracy: 0.5450 - lr: 0.0016\n",
      "Epoch 26/100\n",
      "25/25 [==============================] - 0s 3ms/step - loss: 0.6778 - accuracy: 0.5387 - lr: 0.0018\n",
      "Epoch 27/100\n",
      "25/25 [==============================] - 0s 2ms/step - loss: 0.6770 - accuracy: 0.5425 - lr: 0.0020\n",
      "Epoch 28/100\n",
      "25/25 [==============================] - 0s 3ms/step - loss: 0.6760 - accuracy: 0.5537 - lr: 0.0022\n",
      "Epoch 29/100\n",
      "25/25 [==============================] - 0s 3ms/step - loss: 0.6754 - accuracy: 0.5512 - lr: 0.0025\n",
      "Epoch 30/100\n",
      "25/25 [==============================] - 0s 3ms/step - loss: 0.6739 - accuracy: 0.5575 - lr: 0.0028\n",
      "Epoch 31/100\n",
      "25/25 [==============================] - 0s 3ms/step - loss: 0.6726 - accuracy: 0.5500 - lr: 0.0032\n",
      "Epoch 32/100\n",
      "25/25 [==============================] - 0s 3ms/step - loss: 0.6711 - accuracy: 0.5512 - lr: 0.0035\n",
      "Epoch 33/100\n",
      "25/25 [==============================] - 0s 3ms/step - loss: 0.6688 - accuracy: 0.5562 - lr: 0.0040\n",
      "Epoch 34/100\n",
      "25/25 [==============================] - 0s 3ms/step - loss: 0.6672 - accuracy: 0.5612 - lr: 0.0045\n",
      "Epoch 35/100\n",
      "25/25 [==============================] - 0s 3ms/step - loss: 0.6660 - accuracy: 0.5888 - lr: 0.0050\n",
      "Epoch 36/100\n",
      "25/25 [==============================] - 0s 3ms/step - loss: 0.6625 - accuracy: 0.5625 - lr: 0.0056\n",
      "Epoch 37/100\n",
      "25/25 [==============================] - 0s 3ms/step - loss: 0.6560 - accuracy: 0.5813 - lr: 0.0063\n",
      "Epoch 38/100\n",
      "25/25 [==============================] - 0s 3ms/step - loss: 0.6521 - accuracy: 0.6025 - lr: 0.0071\n",
      "Epoch 39/100\n",
      "25/25 [==============================] - 0s 2ms/step - loss: 0.6415 - accuracy: 0.7088 - lr: 0.0079\n",
      "Epoch 40/100\n",
      "25/25 [==============================] - 0s 3ms/step - loss: 0.6210 - accuracy: 0.7113 - lr: 0.0089\n",
      "Epoch 41/100\n",
      "25/25 [==============================] - 0s 3ms/step - loss: 0.5904 - accuracy: 0.7487 - lr: 0.0100\n",
      "Epoch 42/100\n",
      "25/25 [==============================] - 0s 3ms/step - loss: 0.5688 - accuracy: 0.7312 - lr: 0.0112\n",
      "Epoch 43/100\n",
      "25/25 [==============================] - 0s 2ms/step - loss: 0.5346 - accuracy: 0.7563 - lr: 0.0126\n",
      "Epoch 44/100\n",
      "25/25 [==============================] - 0s 3ms/step - loss: 0.4533 - accuracy: 0.8150 - lr: 0.0141\n",
      "Epoch 45/100\n",
      "25/25 [==============================] - 0s 3ms/step - loss: 0.3455 - accuracy: 0.9112 - lr: 0.0158\n",
      "Epoch 46/100\n",
      "25/25 [==============================] - 0s 3ms/step - loss: 0.2570 - accuracy: 0.9463 - lr: 0.0178\n",
      "Epoch 47/100\n",
      "25/25 [==============================] - 0s 3ms/step - loss: 0.1968 - accuracy: 0.9575 - lr: 0.0200\n",
      "Epoch 48/100\n",
      "25/25 [==============================] - 0s 3ms/step - loss: 0.1336 - accuracy: 0.9700 - lr: 0.0224\n",
      "Epoch 49/100\n",
      "25/25 [==============================] - 0s 3ms/step - loss: 0.1310 - accuracy: 0.9613 - lr: 0.0251\n",
      "Epoch 50/100\n",
      "25/25 [==============================] - 0s 3ms/step - loss: 0.1002 - accuracy: 0.9700 - lr: 0.0282\n",
      "Epoch 51/100\n",
      "25/25 [==============================] - 0s 3ms/step - loss: 0.1166 - accuracy: 0.9638 - lr: 0.0316\n",
      "Epoch 52/100\n",
      "25/25 [==============================] - 0s 3ms/step - loss: 0.1368 - accuracy: 0.9513 - lr: 0.0355\n",
      "Epoch 53/100\n",
      "25/25 [==============================] - 0s 3ms/step - loss: 0.0879 - accuracy: 0.9787 - lr: 0.0398\n",
      "Epoch 54/100\n",
      "25/25 [==============================] - 0s 3ms/step - loss: 0.1187 - accuracy: 0.9588 - lr: 0.0447\n",
      "Epoch 55/100\n",
      "25/25 [==============================] - 0s 3ms/step - loss: 0.0733 - accuracy: 0.9712 - lr: 0.0501\n",
      "Epoch 56/100\n",
      "25/25 [==============================] - 0s 3ms/step - loss: 0.1132 - accuracy: 0.9550 - lr: 0.0562\n",
      "Epoch 57/100\n",
      "25/25 [==============================] - 0s 3ms/step - loss: 0.1057 - accuracy: 0.9613 - lr: 0.0631\n",
      "Epoch 58/100\n",
      "25/25 [==============================] - 0s 3ms/step - loss: 0.0665 - accuracy: 0.9750 - lr: 0.0708\n",
      "Epoch 59/100\n",
      "25/25 [==============================] - 0s 3ms/step - loss: 0.1864 - accuracy: 0.9300 - lr: 0.0794\n",
      "Epoch 60/100\n",
      "25/25 [==============================] - 0s 3ms/step - loss: 0.1819 - accuracy: 0.9312 - lr: 0.0891\n",
      "Epoch 61/100\n",
      "25/25 [==============================] - 0s 2ms/step - loss: 0.2939 - accuracy: 0.9025 - lr: 0.1000\n",
      "Epoch 62/100\n",
      "25/25 [==============================] - 0s 3ms/step - loss: 0.1302 - accuracy: 0.9787 - lr: 0.1122\n",
      "Epoch 63/100\n",
      "25/25 [==============================] - 0s 2ms/step - loss: 0.0452 - accuracy: 0.9962 - lr: 0.1259\n",
      "Epoch 64/100\n",
      "25/25 [==============================] - 0s 2ms/step - loss: 0.1041 - accuracy: 0.9613 - lr: 0.1413\n",
      "Epoch 65/100\n",
      "25/25 [==============================] - 0s 3ms/step - loss: 0.1608 - accuracy: 0.9388 - lr: 0.1585\n",
      "Epoch 66/100\n",
      "25/25 [==============================] - 0s 3ms/step - loss: 0.0732 - accuracy: 0.9762 - lr: 0.1778\n",
      "Epoch 67/100\n",
      "25/25 [==============================] - 0s 3ms/step - loss: 0.6007 - accuracy: 0.8037 - lr: 0.1995\n",
      "Epoch 68/100\n",
      "25/25 [==============================] - 0s 3ms/step - loss: 0.5252 - accuracy: 0.7063 - lr: 0.2239\n",
      "Epoch 69/100\n",
      "25/25 [==============================] - 0s 3ms/step - loss: 0.3724 - accuracy: 0.8425 - lr: 0.2512\n",
      "Epoch 70/100\n",
      "25/25 [==============================] - 0s 2ms/step - loss: 0.5198 - accuracy: 0.7412 - lr: 0.2818\n",
      "Epoch 71/100\n",
      "25/25 [==============================] - 0s 2ms/step - loss: 0.4536 - accuracy: 0.8012 - lr: 0.3162\n",
      "Epoch 72/100\n",
      "25/25 [==============================] - 0s 3ms/step - loss: 0.5487 - accuracy: 0.6900 - lr: 0.3548\n",
      "Epoch 73/100\n",
      "25/25 [==============================] - 0s 3ms/step - loss: 0.5382 - accuracy: 0.6888 - lr: 0.3981\n",
      "Epoch 74/100\n",
      "25/25 [==============================] - 0s 3ms/step - loss: 0.6783 - accuracy: 0.5800 - lr: 0.4467\n",
      "Epoch 75/100\n",
      "25/25 [==============================] - 0s 3ms/step - loss: 0.5507 - accuracy: 0.7538 - lr: 0.5012\n",
      "Epoch 76/100\n",
      "25/25 [==============================] - 0s 3ms/step - loss: 0.4724 - accuracy: 0.8075 - lr: 0.5623\n",
      "Epoch 77/100\n",
      "25/25 [==============================] - 0s 2ms/step - loss: 0.5994 - accuracy: 0.7113 - lr: 0.6310\n",
      "Epoch 78/100\n",
      "25/25 [==============================] - 0s 2ms/step - loss: 0.6006 - accuracy: 0.6150 - lr: 0.7079\n",
      "Epoch 79/100\n",
      "25/25 [==============================] - 0s 3ms/step - loss: 0.5600 - accuracy: 0.6900 - lr: 0.7943\n",
      "Epoch 80/100\n",
      "25/25 [==============================] - 0s 2ms/step - loss: 0.5524 - accuracy: 0.6862 - lr: 0.8913\n",
      "Epoch 81/100\n",
      "25/25 [==============================] - 0s 3ms/step - loss: 0.5564 - accuracy: 0.6775 - lr: 1.0000\n",
      "Epoch 82/100\n",
      "25/25 [==============================] - 0s 3ms/step - loss: 0.6685 - accuracy: 0.7088 - lr: 1.1220\n",
      "Epoch 83/100\n",
      "25/25 [==============================] - 0s 2ms/step - loss: 0.7621 - accuracy: 0.4963 - lr: 1.2589\n",
      "Epoch 84/100\n",
      "25/25 [==============================] - 0s 3ms/step - loss: 0.7024 - accuracy: 0.4988 - lr: 1.4125\n",
      "Epoch 85/100\n",
      "25/25 [==============================] - 0s 2ms/step - loss: 0.7290 - accuracy: 0.5038 - lr: 1.5849\n",
      "Epoch 86/100\n",
      "25/25 [==============================] - 0s 2ms/step - loss: 0.7749 - accuracy: 0.5038 - lr: 1.7783\n",
      "Epoch 87/100\n",
      "25/25 [==============================] - 0s 3ms/step - loss: 0.7674 - accuracy: 0.5063 - lr: 1.9953\n",
      "Epoch 88/100\n",
      "25/25 [==============================] - 0s 3ms/step - loss: 0.7572 - accuracy: 0.5163 - lr: 2.2387\n",
      "Epoch 89/100\n",
      "25/25 [==============================] - 0s 2ms/step - loss: 0.7571 - accuracy: 0.4963 - lr: 2.5119\n",
      "Epoch 90/100\n",
      "25/25 [==============================] - 0s 3ms/step - loss: 0.7829 - accuracy: 0.5238 - lr: 2.8184\n",
      "Epoch 91/100\n",
      "25/25 [==============================] - 0s 3ms/step - loss: 0.8095 - accuracy: 0.5213 - lr: 3.1623\n",
      "Epoch 92/100\n",
      "25/25 [==============================] - 0s 2ms/step - loss: 0.7358 - accuracy: 0.4888 - lr: 3.5481\n",
      "Epoch 93/100\n",
      "25/25 [==============================] - 0s 3ms/step - loss: 0.7422 - accuracy: 0.5063 - lr: 3.9811\n",
      "Epoch 94/100\n",
      "25/25 [==============================] - 0s 2ms/step - loss: 0.7596 - accuracy: 0.5063 - lr: 4.4668\n",
      "Epoch 95/100\n",
      "25/25 [==============================] - 0s 2ms/step - loss: 0.8234 - accuracy: 0.4863 - lr: 5.0119\n",
      "Epoch 96/100\n",
      "25/25 [==============================] - 0s 3ms/step - loss: 0.7862 - accuracy: 0.4613 - lr: 5.6234\n",
      "Epoch 97/100\n",
      "25/25 [==============================] - 0s 3ms/step - loss: 0.8076 - accuracy: 0.5013 - lr: 6.3096\n",
      "Epoch 98/100\n",
      "25/25 [==============================] - 0s 2ms/step - loss: 0.9650 - accuracy: 0.4963 - lr: 7.0795\n",
      "Epoch 99/100\n",
      "25/25 [==============================] - 0s 2ms/step - loss: 0.9718 - accuracy: 0.4913 - lr: 7.9433\n",
      "Epoch 100/100\n",
      "25/25 [==============================] - 0s 2ms/step - loss: 0.8583 - accuracy: 0.4613 - lr: 8.9125\n"
     ]
    }
   ],
   "source": [
    "# To re-create a model to fit on the training data and evalluate the test data\n",
    "\n",
    "tf.random.set_seed(42)\n",
    "\n",
    "model_9 = tf.keras.Sequential([\n",
    "tf.keras.layers.Dense(4, activation='relu'),\n",
    "tf.keras.layers.Dense(4, activation='relu'),\n",
    "tf.keras.layers.Dense(1, activation=tf.keras.activations.sigmoid)\n",
    "    \n",
    "    \n",
    "    \n",
    "])\n",
    "\n",
    "model_9.compile(loss=tf.keras.losses.BinaryCrossentropy(),\n",
    "                optimizer= 'Adam',\n",
    "                metrics=['accuracy']\n",
    ")\n",
    "\n",
    "# Create a learning rate call back\n",
    "lr_scheduler = tf.keras.callbacks.LearningRateScheduler(lambda epoch: 1e-4 * 10**(epoch/20))\n",
    "\n",
    "history_9 = model_9.fit(X_train, y_train, epochs=100, callbacks=[lr_scheduler])"
   ]
  },
  {
   "cell_type": "code",
   "execution_count": 40,
   "id": "cbee6dbb-90cf-4470-97de-a270b58f4af0",
   "metadata": {},
   "outputs": [
    {
     "data": {
      "text/plain": [
       "<AxesSubplot:xlabel='epochs'>"
      ]
     },
     "execution_count": 40,
     "metadata": {},
     "output_type": "execute_result"
    },
    {
     "data": {
      "image/png": "[encoded data removed]",
      "text/plain": [
       "<Figure size 720x504 with 1 Axes>"
      ]
     },
     "metadata": {
      "needs_background": "light"
     },
     "output_type": "display_data"
    }
   ],
   "source": [
    "# Check the history\n",
    "pd.DataFrame(history_9.history).plot(figsize=(10, 7), xlabel='epochs')"
   ]
  },
  {
   "cell_type": "code",
   "execution_count": 41,
   "id": "e246c0f9-234e-4e1a-bced-64f79db9cc1a",
   "metadata": {
    "tags": []
   },
   "outputs": [
    {
     "data": {
      "text/plain": [
       "<tf.Tensor: shape=(100,), dtype=float64, numpy=\n",
       "array([1.00000000e-04, 1.12201845e-04, 1.25892541e-04, 1.41253754e-04,\n",
       "       1.58489319e-04, 1.77827941e-04, 1.99526231e-04, 2.23872114e-04,\n",
       "       2.51188643e-04, 2.81838293e-04, 3.16227766e-04, 3.54813389e-04,\n",
       "       3.98107171e-04, 4.46683592e-04, 5.01187234e-04, 5.62341325e-04,\n",
       "       6.30957344e-04, 7.07945784e-04, 7.94328235e-04, 8.91250938e-04,\n",
       "       1.00000000e-03, 1.12201845e-03, 1.25892541e-03, 1.41253754e-03,\n",
       "       1.58489319e-03, 1.77827941e-03, 1.99526231e-03, 2.23872114e-03,\n",
       "       2.51188643e-03, 2.81838293e-03, 3.16227766e-03, 3.54813389e-03,\n",
       "       3.98107171e-03, 4.46683592e-03, 5.01187234e-03, 5.62341325e-03,\n",
       "       6.30957344e-03, 7.07945784e-03, 7.94328235e-03, 8.91250938e-03,\n",
       "       1.00000000e-02, 1.12201845e-02, 1.25892541e-02, 1.41253754e-02,\n",
       "       1.58489319e-02, 1.77827941e-02, 1.99526231e-02, 2.23872114e-02,\n",
       "       2.51188643e-02, 2.81838293e-02, 3.16227766e-02, 3.54813389e-02,\n",
       "       3.98107171e-02, 4.46683592e-02, 5.01187234e-02, 5.62341325e-02,\n",
       "       6.30957344e-02, 7.07945784e-02, 7.94328235e-02, 8.91250938e-02,\n",
       "       1.00000000e-01, 1.12201845e-01, 1.25892541e-01, 1.41253754e-01,\n",
       "       1.58489319e-01, 1.77827941e-01, 1.99526231e-01, 2.23872114e-01,\n",
       "       2.51188643e-01, 2.81838293e-01, 3.16227766e-01, 3.54813389e-01,\n",
       "       3.98107171e-01, 4.46683592e-01, 5.01187234e-01, 5.62341325e-01,\n",
       "       6.30957344e-01, 7.07945784e-01, 7.94328235e-01, 8.91250938e-01,\n",
       "       1.00000000e+00, 1.12201845e+00, 1.25892541e+00, 1.41253754e+00,\n",
       "       1.58489319e+00, 1.77827941e+00, 1.99526231e+00, 2.23872114e+00,\n",
       "       2.51188643e+00, 2.81838293e+00, 3.16227766e+00, 3.54813389e+00,\n",
       "       3.98107171e+00, 4.46683592e+00, 5.01187234e+00, 5.62341325e+00,\n",
       "       6.30957344e+00, 7.07945784e+00, 7.94328235e+00, 8.91250938e+00])>"
      ]
     },
     "execution_count": 41,
     "metadata": {},
     "output_type": "execute_result"
    }
   ],
   "source": [
    "# Plot the learning rate v/s the loss\n",
    "lrs = 1e-4 * (10 ** (tf.range(100)/20))\n",
    "lrs"
   ]
  },
  {
   "cell_type": "code",
   "execution_count": 42,
   "id": "8db57f7e-035c-46cd-bb2e-e83df6417b12",
   "metadata": {},
   "outputs": [
    {
     "data": {
      "image/png": "[encoded data removed]",
      "text/plain": [
       "<Figure size 720x504 with 1 Axes>"
      ]
     },
     "metadata": {
      "needs_background": "light"
     },
     "output_type": "display_data"
    }
   ],
   "source": [
    "plt.figure(figsize=(10, 7))\n",
    "plt.semilogx(lrs, history_9.history['loss'])\n",
    "plt.xlabel('learning rate')\n",
    "plt.ylabel('loss')\n",
    "plt.title('learning rate v/s loss');"
   ]
  },
  {
   "cell_type": "code",
   "execution_count": null,
   "id": "1b634e24-6716-4b99-a8c0-20c498af599f",
   "metadata": {},
   "outputs": [],
   "source": []
  },
  {
   "cell_type": "code",
   "execution_count": null,
   "id": "1bcdda5e-c10a-4fa8-b17e-9df841c72f40",
   "metadata": {},
   "outputs": [],
   "source": []
  },
  {
   "cell_type": "code",
   "execution_count": null,
   "id": "6d30fcad-8b27-477e-9c4f-32544281c404",
   "metadata": {},
   "outputs": [],
   "source": []
  },
  {
   "cell_type": "code",
   "execution_count": null,
   "id": "cb4fb135-e19f-4086-86fb-1c921a44222a",
   "metadata": {},
   "outputs": [],
   "source": []
  },
  {
   "cell_type": "code",
   "execution_count": null,
   "id": "db9cf96d-fe79-40f0-929e-1215d84c85f9",
   "metadata": {},
   "outputs": [],
   "source": []
  },
  {
   "cell_type": "code",
   "execution_count": null,
   "id": "72fb36ca-5e01-4e2a-843f-f92254a06da3",
   "metadata": {},
   "outputs": [],
   "source": []
  },
  {
   "cell_type": "code",
   "execution_count": null,
   "id": "8b04bf56-ad1e-4b9a-a814-97aa6479ae14",
   "metadata": {},
   "outputs": [],
   "source": []
  },
  {
   "cell_type": "code",
   "execution_count": null,
   "id": "af2a4623-6e4f-44ed-84ef-1c955f42fa76",
   "metadata": {},
   "outputs": [],
   "source": []
  },
  {
   "cell_type": "code",
   "execution_count": null,
   "id": "7bfc2374-a84e-41bf-b6d7-4ac630a484f2",
   "metadata": {},
   "outputs": [],
   "source": []
  },
  {
   "cell_type": "code",
   "execution_count": null,
   "id": "6b55571c-7817-4d69-9ae0-c89e8257af25",
   "metadata": {},
   "outputs": [],
   "source": []
  },
  {
   "cell_type": "code",
   "execution_count": null,
   "id": "52991efc-42d1-4d49-b66e-121dc048758a",
   "metadata": {},
   "outputs": [],
   "source": []
  },
  {
   "cell_type": "code",
   "execution_count": null,
   "id": "cfe1a071-3d5b-4c80-aedf-9d1aad653e0b",
   "metadata": {},
   "outputs": [],
   "source": []
  },
  {
   "cell_type": "code",
   "execution_count": null,
   "id": "98b17ed5-a1de-439f-b58c-9e17def45172",
   "metadata": {},
   "outputs": [],
   "source": []
  },
  {
   "cell_type": "code",
   "execution_count": null,
   "id": "7868814c-fa09-486c-aaee-e375712e9ade",
   "metadata": {},
   "outputs": [],
   "source": []
  },
  {
   "cell_type": "code",
   "execution_count": null,
   "id": "a0e2d321-1219-4559-929a-ccbb800e28c5",
   "metadata": {},
   "outputs": [],
   "source": []
  }
 ],
 "metadata": {
  "kernelspec": {
   "display_name": "Python 3 (ipykernel)",
   "language": "python",
   "name": "python3"
  },
  "language_info": {
   "codemirror_mode": {
    "name": "ipython",
    "version": 3
   },
   "file_extension": ".py",
   "mimetype": "text/x-python",
   "name": "python",
   "nbconvert_exporter": "python",
   "pygments_lexer": "ipython3",
   "version": "3.9.9"
  }
 },
 "nbformat": 4,
 "nbformat_minor": 5
}
